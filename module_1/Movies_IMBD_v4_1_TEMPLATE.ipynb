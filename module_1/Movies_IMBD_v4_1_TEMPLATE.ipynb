{
  "nbformat": 4,
  "nbformat_minor": 0,
  "metadata": {
    "colab": {
      "name": "Movies_IMBD_v4.1_TEMPLATE.ipynb",
      "provenance": [],
      "collapsed_sections": [
        "bapLlpW8Vp-k",
        "TfQbxbfNVp-p",
        "r5TvbnT_Vp-u",
        "M99JmIX4Vp-2",
        "wEOM5ERVVp-6",
        "xhpspA9KVp_A",
        "Zi4hDKidVp_F",
        "EA7Sa9dkVp_I",
        "U0nONFnGVqAX"
      ]
    },
    "kernelspec": {
      "display_name": "Python 3",
      "language": "python",
      "name": "python3"
    },
    "language_info": {
      "codemirror_mode": {
        "name": "ipython",
        "version": 3
      },
      "file_extension": ".py",
      "mimetype": "text/x-python",
      "name": "python",
      "nbconvert_exporter": "python",
      "pygments_lexer": "ipython3",
      "version": "3.7.4"
    }
  },
  "cells": [
    {
      "cell_type": "code",
      "metadata": {
        "_cell_guid": "b1076dfc-b9ad-4769-8c92-a6c4dae69d19",
        "_uuid": "8f2839f25d086af736a60e9eeb907d3b93b6e0e5",
        "id": "U2D2gTdJVp90"
      },
      "source": [
        "import numpy as np\n",
        "import pandas as pd\n",
        "import seaborn as sns\n",
        "import datetime\n",
        "import matplotlib.pyplot as plt\n",
        "from collections import Counter"
      ],
      "execution_count": null,
      "outputs": []
    },
    {
      "cell_type": "code",
      "metadata": {
        "id": "tSS-m75e5HBa",
        "colab": {
          "resources": {
            "http://localhost:8080/nbextensions/google.colab/files.js": {
              "data": "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",
              "ok": true,
              "headers": [
                [
                  "content-type",
                  "application/javascript"
                ]
              ],
              "status": 200,
              "status_text": ""
            }
          },
          "base_uri": "https://localhost:8080/",
          "height": 73
        },
        "outputId": "8d35bb58-64b2-4a18-faa1-b974c6cfe4b4"
      },
      "source": [
        "from google.colab import files\r\n",
        "uploaded = files.upload()"
      ],
      "execution_count": null,
      "outputs": [
        {
          "output_type": "display_data",
          "data": {
            "text/html": [
              "\n",
              "     <input type=\"file\" id=\"files-7da5bf7c-e746-4ed0-ac05-7db04e0861f8\" name=\"files[]\" multiple disabled\n",
              "        style=\"border:none\" />\n",
              "     <output id=\"result-7da5bf7c-e746-4ed0-ac05-7db04e0861f8\">\n",
              "      Upload widget is only available when the cell has been executed in the\n",
              "      current browser session. Please rerun this cell to enable.\n",
              "      </output>\n",
              "      <script src=\"/nbextensions/google.colab/files.js\"></script> "
            ],
            "text/plain": [
              "<IPython.core.display.HTML object>"
            ]
          },
          "metadata": {
            "tags": []
          }
        },
        {
          "output_type": "stream",
          "text": [
            "Saving movie_bd_v5.csv to movie_bd_v5.csv\n"
          ],
          "name": "stdout"
        }
      ]
    },
    {
      "cell_type": "code",
      "metadata": {
        "id": "d3KplBPqMQia"
      },
      "source": [
        "#del dataExploded\r\n",
        "#del data"
      ],
      "execution_count": 251,
      "outputs": []
    },
    {
      "cell_type": "code",
      "metadata": {
        "_cell_guid": "79c7e3d0-c299-4dcb-8224-4455121ee9b0",
        "_uuid": "d629ff2d2480ee46fbb7e2d37f6b5fab8052498a",
        "id": "oyGfxL3eVp9-",
        "colab": {
          "base_uri": "https://localhost:8080/",
          "height": 602
        },
        "outputId": "c2743a98-0e3e-46dd-b66b-ea2dbb77712f"
      },
      "source": [
        "data = pd.read_csv('movie_bd_v5.csv')\n",
        "data.sample(5)"
      ],
      "execution_count": 252,
      "outputs": [
        {
          "output_type": "execute_result",
          "data": {
            "text/html": [
              "<div>\n",
              "<style scoped>\n",
              "    .dataframe tbody tr th:only-of-type {\n",
              "        vertical-align: middle;\n",
              "    }\n",
              "\n",
              "    .dataframe tbody tr th {\n",
              "        vertical-align: top;\n",
              "    }\n",
              "\n",
              "    .dataframe thead th {\n",
              "        text-align: right;\n",
              "    }\n",
              "</style>\n",
              "<table border=\"1\" class=\"dataframe\">\n",
              "  <thead>\n",
              "    <tr style=\"text-align: right;\">\n",
              "      <th></th>\n",
              "      <th>imdb_id</th>\n",
              "      <th>budget</th>\n",
              "      <th>revenue</th>\n",
              "      <th>original_title</th>\n",
              "      <th>cast</th>\n",
              "      <th>director</th>\n",
              "      <th>tagline</th>\n",
              "      <th>overview</th>\n",
              "      <th>runtime</th>\n",
              "      <th>genres</th>\n",
              "      <th>production_companies</th>\n",
              "      <th>release_date</th>\n",
              "      <th>vote_average</th>\n",
              "      <th>release_year</th>\n",
              "    </tr>\n",
              "  </thead>\n",
              "  <tbody>\n",
              "    <tr>\n",
              "      <th>1768</th>\n",
              "      <td>tt0452702</td>\n",
              "      <td>19000000</td>\n",
              "      <td>35300645</td>\n",
              "      <td>Vacancy</td>\n",
              "      <td>Kate Beckinsale|Luke Wilson|Ethan Embry|Scott ...</td>\n",
              "      <td>NimrÃ³d Antal</td>\n",
              "      <td>Once you've checked in... The terror begins.</td>\n",
              "      <td>A young married couple becomes stranded at an ...</td>\n",
              "      <td>80</td>\n",
              "      <td>Horror|Thriller</td>\n",
              "      <td>Screen Gems|Hal Lieberman Company</td>\n",
              "      <td>4/20/2007</td>\n",
              "      <td>5.9</td>\n",
              "      <td>2007</td>\n",
              "    </tr>\n",
              "    <tr>\n",
              "      <th>447</th>\n",
              "      <td>tt1219342</td>\n",
              "      <td>80000000</td>\n",
              "      <td>140073390</td>\n",
              "      <td>Legend of the Guardians: The Owls of Ga'Hoole</td>\n",
              "      <td>Emily Barclay|Abbie Cornish|Essie Davis|Joel E...</td>\n",
              "      <td>Zack Snyder</td>\n",
              "      <td>On his way to finding a legend...he will becom...</td>\n",
              "      <td>Soren, a young barn owl, is kidnapped by owls ...</td>\n",
              "      <td>97</td>\n",
              "      <td>Animation|Adventure|Family|Fantasy</td>\n",
              "      <td>Village Roadshow Pictures|Warner Bros.|Animal ...</td>\n",
              "      <td>7/10/2010</td>\n",
              "      <td>6.5</td>\n",
              "      <td>2010</td>\n",
              "    </tr>\n",
              "    <tr>\n",
              "      <th>576</th>\n",
              "      <td>tt0232500</td>\n",
              "      <td>38000000</td>\n",
              "      <td>207283925</td>\n",
              "      <td>The Fast and the Furious</td>\n",
              "      <td>Paul Walker|Vin Diesel|Michelle Rodriguez|Jord...</td>\n",
              "      <td>Rob Cohen</td>\n",
              "      <td>Live life 1/4 mile at a time.</td>\n",
              "      <td>Domenic Toretto is a Los Angeles street racer ...</td>\n",
              "      <td>106</td>\n",
              "      <td>Action|Crime|Thriller</td>\n",
              "      <td>Universal Pictures|Original Film|Ardustry Ente...</td>\n",
              "      <td>6/22/2001</td>\n",
              "      <td>6.4</td>\n",
              "      <td>2001</td>\n",
              "    </tr>\n",
              "    <tr>\n",
              "      <th>17</th>\n",
              "      <td>tt0478970</td>\n",
              "      <td>130000000</td>\n",
              "      <td>518602163</td>\n",
              "      <td>Ant-Man</td>\n",
              "      <td>Paul Rudd|Michael Douglas|Evangeline Lilly|Cor...</td>\n",
              "      <td>Peyton Reed</td>\n",
              "      <td>Heroes Don't Get Any Bigger</td>\n",
              "      <td>Armed with the astonishing ability to shrink i...</td>\n",
              "      <td>115</td>\n",
              "      <td>Science Fiction|Action|Adventure</td>\n",
              "      <td>Marvel Studios</td>\n",
              "      <td>7/14/2015</td>\n",
              "      <td>7.0</td>\n",
              "      <td>2015</td>\n",
              "    </tr>\n",
              "    <tr>\n",
              "      <th>429</th>\n",
              "      <td>tt1477076</td>\n",
              "      <td>20000000</td>\n",
              "      <td>136150434</td>\n",
              "      <td>Saw 3D</td>\n",
              "      <td>Tobin Bell|Costas Mandylor|Betsy Russell|Cary ...</td>\n",
              "      <td>Kevin Greutert</td>\n",
              "      <td>The Traps Come Alive</td>\n",
              "      <td>As a deadly battle rages over Jigsaw's brutal ...</td>\n",
              "      <td>90</td>\n",
              "      <td>Horror|Crime</td>\n",
              "      <td>Lionsgate|Twisted Pictures|Serendipity Product...</td>\n",
              "      <td>10/21/2010</td>\n",
              "      <td>5.8</td>\n",
              "      <td>2010</td>\n",
              "    </tr>\n",
              "  </tbody>\n",
              "</table>\n",
              "</div>"
            ],
            "text/plain": [
              "        imdb_id     budget    revenue  ... release_date vote_average release_year\n",
              "1768  tt0452702   19000000   35300645  ...    4/20/2007          5.9         2007\n",
              "447   tt1219342   80000000  140073390  ...    7/10/2010          6.5         2010\n",
              "576   tt0232500   38000000  207283925  ...    6/22/2001          6.4         2001\n",
              "17    tt0478970  130000000  518602163  ...    7/14/2015          7.0         2015\n",
              "429   tt1477076   20000000  136150434  ...   10/21/2010          5.8         2010\n",
              "\n",
              "[5 rows x 14 columns]"
            ]
          },
          "metadata": {
            "tags": []
          },
          "execution_count": 252
        }
      ]
    },
    {
      "cell_type": "code",
      "metadata": {
        "id": "CoYUnagMVp-C"
      },
      "source": [
        "data.describe()"
      ],
      "execution_count": null,
      "outputs": []
    },
    {
      "cell_type": "code",
      "metadata": {
        "id": "tce7Jcd66Mmy"
      },
      "source": [
        "display(data.runtime)"
      ],
      "execution_count": null,
      "outputs": []
    },
    {
      "cell_type": "markdown",
      "metadata": {
        "id": "DTIt7ezGVp-G"
      },
      "source": [
        "# Предобработка"
      ]
    },
    {
      "cell_type": "code",
      "metadata": {
        "id": "jNb40DwKVp-H"
      },
      "source": [
        "answers = {} # создадим словарь для ответов\n",
        "\n",
        "# тут другие ваши предобработки колонок например:\n",
        "\n",
        "#the time given in the dataset is in string format.\n",
        "#So we need to change this in datetime format\n",
        "def datetime_formatter(date_string):\n",
        "  datetime_split = date_string.split('/') # month / date / year\n",
        "  datetime_split = list(map(int, datetime_split))\n",
        "  return datetime.datetime(datetime_split[2], datetime_split[0], datetime_split[1]) # year / month / date\n",
        "\n",
        "\n",
        "\n",
        "release_date_datetime = data.release_date.apply(datetime_formatter)\n",
        "data.release_date = release_date_datetime"
      ],
      "execution_count": 253,
      "outputs": []
    },
    {
      "cell_type": "code",
      "metadata": {
        "colab": {
          "base_uri": "https://localhost:8080/",
          "height": 1000
        },
        "id": "mWDbFSuh0_jQ",
        "outputId": "4abf4df0-a732-4bb9-9b88-78e5b0b6ec5a"
      },
      "source": [
        "# create month colum\r\n",
        "month = []\r\n",
        "for index, row in data.iterrows():\r\n",
        "  month.append(row['release_date'].strftime(\"%B\"))\r\n",
        "\r\n",
        "month = pd.Series(month)\r\n",
        "data.insert(12, 'month', month)\r\n",
        "display(data)"
      ],
      "execution_count": 254,
      "outputs": [
        {
          "output_type": "display_data",
          "data": {
            "text/html": [
              "<div>\n",
              "<style scoped>\n",
              "    .dataframe tbody tr th:only-of-type {\n",
              "        vertical-align: middle;\n",
              "    }\n",
              "\n",
              "    .dataframe tbody tr th {\n",
              "        vertical-align: top;\n",
              "    }\n",
              "\n",
              "    .dataframe thead th {\n",
              "        text-align: right;\n",
              "    }\n",
              "</style>\n",
              "<table border=\"1\" class=\"dataframe\">\n",
              "  <thead>\n",
              "    <tr style=\"text-align: right;\">\n",
              "      <th></th>\n",
              "      <th>imdb_id</th>\n",
              "      <th>budget</th>\n",
              "      <th>revenue</th>\n",
              "      <th>original_title</th>\n",
              "      <th>cast</th>\n",
              "      <th>director</th>\n",
              "      <th>tagline</th>\n",
              "      <th>overview</th>\n",
              "      <th>runtime</th>\n",
              "      <th>genres</th>\n",
              "      <th>production_companies</th>\n",
              "      <th>release_date</th>\n",
              "      <th>month</th>\n",
              "      <th>vote_average</th>\n",
              "      <th>release_year</th>\n",
              "    </tr>\n",
              "  </thead>\n",
              "  <tbody>\n",
              "    <tr>\n",
              "      <th>0</th>\n",
              "      <td>tt0369610</td>\n",
              "      <td>150000000</td>\n",
              "      <td>1513528810</td>\n",
              "      <td>Jurassic World</td>\n",
              "      <td>Chris Pratt|Bryce Dallas Howard|Irrfan Khan|Vi...</td>\n",
              "      <td>Colin Trevorrow</td>\n",
              "      <td>The park is open.</td>\n",
              "      <td>Twenty-two years after the events of Jurassic ...</td>\n",
              "      <td>124</td>\n",
              "      <td>Action|Adventure|Science Fiction|Thriller</td>\n",
              "      <td>Universal Studios|Amblin Entertainment|Legenda...</td>\n",
              "      <td>2015-06-09</td>\n",
              "      <td>June</td>\n",
              "      <td>6.5</td>\n",
              "      <td>2015</td>\n",
              "    </tr>\n",
              "    <tr>\n",
              "      <th>1</th>\n",
              "      <td>tt1392190</td>\n",
              "      <td>150000000</td>\n",
              "      <td>378436354</td>\n",
              "      <td>Mad Max: Fury Road</td>\n",
              "      <td>Tom Hardy|Charlize Theron|Hugh Keays-Byrne|Nic...</td>\n",
              "      <td>George Miller</td>\n",
              "      <td>What a Lovely Day.</td>\n",
              "      <td>An apocalyptic story set in the furthest reach...</td>\n",
              "      <td>120</td>\n",
              "      <td>Action|Adventure|Science Fiction|Thriller</td>\n",
              "      <td>Village Roadshow Pictures|Kennedy Miller Produ...</td>\n",
              "      <td>2015-05-13</td>\n",
              "      <td>May</td>\n",
              "      <td>7.1</td>\n",
              "      <td>2015</td>\n",
              "    </tr>\n",
              "    <tr>\n",
              "      <th>2</th>\n",
              "      <td>tt2908446</td>\n",
              "      <td>110000000</td>\n",
              "      <td>295238201</td>\n",
              "      <td>Insurgent</td>\n",
              "      <td>Shailene Woodley|Theo James|Kate Winslet|Ansel...</td>\n",
              "      <td>Robert Schwentke</td>\n",
              "      <td>One Choice Can Destroy You</td>\n",
              "      <td>Beatrice Prior must confront her inner demons ...</td>\n",
              "      <td>119</td>\n",
              "      <td>Adventure|Science Fiction|Thriller</td>\n",
              "      <td>Summit Entertainment|Mandeville Films|Red Wago...</td>\n",
              "      <td>2015-03-18</td>\n",
              "      <td>March</td>\n",
              "      <td>6.3</td>\n",
              "      <td>2015</td>\n",
              "    </tr>\n",
              "    <tr>\n",
              "      <th>3</th>\n",
              "      <td>tt2488496</td>\n",
              "      <td>200000000</td>\n",
              "      <td>2068178225</td>\n",
              "      <td>Star Wars: The Force Awakens</td>\n",
              "      <td>Harrison Ford|Mark Hamill|Carrie Fisher|Adam D...</td>\n",
              "      <td>J.J. Abrams</td>\n",
              "      <td>Every generation has a story.</td>\n",
              "      <td>Thirty years after defeating the Galactic Empi...</td>\n",
              "      <td>136</td>\n",
              "      <td>Action|Adventure|Science Fiction|Fantasy</td>\n",
              "      <td>Lucasfilm|Truenorth Productions|Bad Robot</td>\n",
              "      <td>2015-12-15</td>\n",
              "      <td>December</td>\n",
              "      <td>7.5</td>\n",
              "      <td>2015</td>\n",
              "    </tr>\n",
              "    <tr>\n",
              "      <th>4</th>\n",
              "      <td>tt2820852</td>\n",
              "      <td>190000000</td>\n",
              "      <td>1506249360</td>\n",
              "      <td>Furious 7</td>\n",
              "      <td>Vin Diesel|Paul Walker|Jason Statham|Michelle ...</td>\n",
              "      <td>James Wan</td>\n",
              "      <td>Vengeance Hits Home</td>\n",
              "      <td>Deckard Shaw seeks revenge against Dominic Tor...</td>\n",
              "      <td>137</td>\n",
              "      <td>Action|Crime|Thriller</td>\n",
              "      <td>Universal Pictures|Original Film|Media Rights ...</td>\n",
              "      <td>2015-04-01</td>\n",
              "      <td>April</td>\n",
              "      <td>7.3</td>\n",
              "      <td>2015</td>\n",
              "    </tr>\n",
              "    <tr>\n",
              "      <th>...</th>\n",
              "      <td>...</td>\n",
              "      <td>...</td>\n",
              "      <td>...</td>\n",
              "      <td>...</td>\n",
              "      <td>...</td>\n",
              "      <td>...</td>\n",
              "      <td>...</td>\n",
              "      <td>...</td>\n",
              "      <td>...</td>\n",
              "      <td>...</td>\n",
              "      <td>...</td>\n",
              "      <td>...</td>\n",
              "      <td>...</td>\n",
              "      <td>...</td>\n",
              "      <td>...</td>\n",
              "    </tr>\n",
              "    <tr>\n",
              "      <th>1884</th>\n",
              "      <td>tt0120903</td>\n",
              "      <td>75000000</td>\n",
              "      <td>157299717</td>\n",
              "      <td>X-Men</td>\n",
              "      <td>Patrick Stewart|Hugh Jackman|Ian McKellen|Hall...</td>\n",
              "      <td>Bryan Singer</td>\n",
              "      <td>Evolution Begins</td>\n",
              "      <td>Two mutants, Rogue and Wolverine, come to a pr...</td>\n",
              "      <td>104</td>\n",
              "      <td>Adventure|Action|Science Fiction</td>\n",
              "      <td>Twentieth Century Fox Film Corporation|Donners...</td>\n",
              "      <td>2000-07-13</td>\n",
              "      <td>July</td>\n",
              "      <td>6.6</td>\n",
              "      <td>2000</td>\n",
              "    </tr>\n",
              "    <tr>\n",
              "      <th>1885</th>\n",
              "      <td>tt0192255</td>\n",
              "      <td>22000000</td>\n",
              "      <td>13555988</td>\n",
              "      <td>The Little Vampire</td>\n",
              "      <td>Richard E. Grant|Jonathan Lipnicki|Jim Carter|...</td>\n",
              "      <td>Uli Edel</td>\n",
              "      <td>They're not just best friends, they're blood b...</td>\n",
              "      <td>Based on the popular books, the story tells of...</td>\n",
              "      <td>95</td>\n",
              "      <td>Horror|Family|Foreign</td>\n",
              "      <td>New Line Cinema</td>\n",
              "      <td>2000-10-27</td>\n",
              "      <td>October</td>\n",
              "      <td>6.4</td>\n",
              "      <td>2000</td>\n",
              "    </tr>\n",
              "    <tr>\n",
              "      <th>1886</th>\n",
              "      <td>tt0131704</td>\n",
              "      <td>76000000</td>\n",
              "      <td>35134820</td>\n",
              "      <td>The Adventures of Rocky &amp; Bullwinkle</td>\n",
              "      <td>Rene Russo|Jason Alexander|Piper Perabo|Randy ...</td>\n",
              "      <td>Des McAnuff</td>\n",
              "      <td>This summer it's not the same old bull.</td>\n",
              "      <td>Rocky and Bullwinkle have been living off the ...</td>\n",
              "      <td>88</td>\n",
              "      <td>Adventure|Animation|Action|Comedy|Family</td>\n",
              "      <td>Universal Pictures|Capella International|KC Me...</td>\n",
              "      <td>2000-06-30</td>\n",
              "      <td>June</td>\n",
              "      <td>4.0</td>\n",
              "      <td>2000</td>\n",
              "    </tr>\n",
              "    <tr>\n",
              "      <th>1887</th>\n",
              "      <td>tt0162983</td>\n",
              "      <td>40000000</td>\n",
              "      <td>36037909</td>\n",
              "      <td>Hanging Up</td>\n",
              "      <td>Meg Ryan|Diane Keaton|Lisa Kudrow|Walter Matth...</td>\n",
              "      <td>Diane Keaton</td>\n",
              "      <td>Every family has a few hang-ups.</td>\n",
              "      <td>A trio of sisters bond over their ambivalence ...</td>\n",
              "      <td>94</td>\n",
              "      <td>Comedy|Drama</td>\n",
              "      <td>Laurence Mark Productions|Columbia Pictures Co...</td>\n",
              "      <td>2000-02-16</td>\n",
              "      <td>February</td>\n",
              "      <td>5.2</td>\n",
              "      <td>2000</td>\n",
              "    </tr>\n",
              "    <tr>\n",
              "      <th>1888</th>\n",
              "      <td>tt0163676</td>\n",
              "      <td>15000000</td>\n",
              "      <td>5217498</td>\n",
              "      <td>The In Crowd</td>\n",
              "      <td>Susan Ward|Lori Heuring|Matthew Settle|Nathan ...</td>\n",
              "      <td>Mary Lambert</td>\n",
              "      <td>What would you do to get in?</td>\n",
              "      <td>A mentally disturbed young woman takes a job a...</td>\n",
              "      <td>105</td>\n",
              "      <td>Thriller</td>\n",
              "      <td>Warner Bros. Pictures</td>\n",
              "      <td>2000-07-19</td>\n",
              "      <td>July</td>\n",
              "      <td>5.2</td>\n",
              "      <td>2000</td>\n",
              "    </tr>\n",
              "  </tbody>\n",
              "</table>\n",
              "<p>1889 rows × 15 columns</p>\n",
              "</div>"
            ],
            "text/plain": [
              "        imdb_id     budget     revenue  ...     month vote_average release_year\n",
              "0     tt0369610  150000000  1513528810  ...      June          6.5         2015\n",
              "1     tt1392190  150000000   378436354  ...       May          7.1         2015\n",
              "2     tt2908446  110000000   295238201  ...     March          6.3         2015\n",
              "3     tt2488496  200000000  2068178225  ...  December          7.5         2015\n",
              "4     tt2820852  190000000  1506249360  ...     April          7.3         2015\n",
              "...         ...        ...         ...  ...       ...          ...          ...\n",
              "1884  tt0120903   75000000   157299717  ...      July          6.6         2000\n",
              "1885  tt0192255   22000000    13555988  ...   October          6.4         2000\n",
              "1886  tt0131704   76000000    35134820  ...      June          4.0         2000\n",
              "1887  tt0162983   40000000    36037909  ...  February          5.2         2000\n",
              "1888  tt0163676   15000000     5217498  ...      July          5.2         2000\n",
              "\n",
              "[1889 rows x 15 columns]"
            ]
          },
          "metadata": {
            "tags": []
          }
        }
      ]
    },
    {
      "cell_type": "code",
      "metadata": {
        "id": "gN3L86ryX5v9"
      },
      "source": [
        "# create profit column\r\n",
        "profit = []\r\n",
        "for index, row in data.iterrows():\r\n",
        "  profit.append(row['revenue'] - row['budget'])\r\n",
        "profit = pd.Series(profit)\r\n",
        "data.insert(3, 'profit', profit)\r\n",
        "#display(data)"
      ],
      "execution_count": 255,
      "outputs": []
    },
    {
      "cell_type": "code",
      "metadata": {
        "colab": {
          "base_uri": "https://localhost:8080/",
          "height": 1000
        },
        "id": "HYSPePCZFvzl",
        "outputId": "0b28b68b-35d8-4fc7-e339-a7309c4f4d8d"
      },
      "source": [
        "# create title_length column\r\n",
        "title_length = []\r\n",
        "for index, row in data.iterrows():\r\n",
        "  title_length.append(len(row['original_title']))\r\n",
        "title_length = pd.Series(title_length)\r\n",
        "data.insert(5, 'title_length', title_length)\r\n",
        "display(data)"
      ],
      "execution_count": 256,
      "outputs": [
        {
          "output_type": "display_data",
          "data": {
            "text/html": [
              "<div>\n",
              "<style scoped>\n",
              "    .dataframe tbody tr th:only-of-type {\n",
              "        vertical-align: middle;\n",
              "    }\n",
              "\n",
              "    .dataframe tbody tr th {\n",
              "        vertical-align: top;\n",
              "    }\n",
              "\n",
              "    .dataframe thead th {\n",
              "        text-align: right;\n",
              "    }\n",
              "</style>\n",
              "<table border=\"1\" class=\"dataframe\">\n",
              "  <thead>\n",
              "    <tr style=\"text-align: right;\">\n",
              "      <th></th>\n",
              "      <th>imdb_id</th>\n",
              "      <th>budget</th>\n",
              "      <th>revenue</th>\n",
              "      <th>profit</th>\n",
              "      <th>original_title</th>\n",
              "      <th>title_length</th>\n",
              "      <th>cast</th>\n",
              "      <th>director</th>\n",
              "      <th>tagline</th>\n",
              "      <th>overview</th>\n",
              "      <th>runtime</th>\n",
              "      <th>genres</th>\n",
              "      <th>production_companies</th>\n",
              "      <th>release_date</th>\n",
              "      <th>month</th>\n",
              "      <th>vote_average</th>\n",
              "      <th>release_year</th>\n",
              "    </tr>\n",
              "  </thead>\n",
              "  <tbody>\n",
              "    <tr>\n",
              "      <th>0</th>\n",
              "      <td>tt0369610</td>\n",
              "      <td>150000000</td>\n",
              "      <td>1513528810</td>\n",
              "      <td>1363528810</td>\n",
              "      <td>Jurassic World</td>\n",
              "      <td>14</td>\n",
              "      <td>Chris Pratt|Bryce Dallas Howard|Irrfan Khan|Vi...</td>\n",
              "      <td>Colin Trevorrow</td>\n",
              "      <td>The park is open.</td>\n",
              "      <td>Twenty-two years after the events of Jurassic ...</td>\n",
              "      <td>124</td>\n",
              "      <td>Action|Adventure|Science Fiction|Thriller</td>\n",
              "      <td>Universal Studios|Amblin Entertainment|Legenda...</td>\n",
              "      <td>2015-06-09</td>\n",
              "      <td>June</td>\n",
              "      <td>6.5</td>\n",
              "      <td>2015</td>\n",
              "    </tr>\n",
              "    <tr>\n",
              "      <th>1</th>\n",
              "      <td>tt1392190</td>\n",
              "      <td>150000000</td>\n",
              "      <td>378436354</td>\n",
              "      <td>228436354</td>\n",
              "      <td>Mad Max: Fury Road</td>\n",
              "      <td>18</td>\n",
              "      <td>Tom Hardy|Charlize Theron|Hugh Keays-Byrne|Nic...</td>\n",
              "      <td>George Miller</td>\n",
              "      <td>What a Lovely Day.</td>\n",
              "      <td>An apocalyptic story set in the furthest reach...</td>\n",
              "      <td>120</td>\n",
              "      <td>Action|Adventure|Science Fiction|Thriller</td>\n",
              "      <td>Village Roadshow Pictures|Kennedy Miller Produ...</td>\n",
              "      <td>2015-05-13</td>\n",
              "      <td>May</td>\n",
              "      <td>7.1</td>\n",
              "      <td>2015</td>\n",
              "    </tr>\n",
              "    <tr>\n",
              "      <th>2</th>\n",
              "      <td>tt2908446</td>\n",
              "      <td>110000000</td>\n",
              "      <td>295238201</td>\n",
              "      <td>185238201</td>\n",
              "      <td>Insurgent</td>\n",
              "      <td>9</td>\n",
              "      <td>Shailene Woodley|Theo James|Kate Winslet|Ansel...</td>\n",
              "      <td>Robert Schwentke</td>\n",
              "      <td>One Choice Can Destroy You</td>\n",
              "      <td>Beatrice Prior must confront her inner demons ...</td>\n",
              "      <td>119</td>\n",
              "      <td>Adventure|Science Fiction|Thriller</td>\n",
              "      <td>Summit Entertainment|Mandeville Films|Red Wago...</td>\n",
              "      <td>2015-03-18</td>\n",
              "      <td>March</td>\n",
              "      <td>6.3</td>\n",
              "      <td>2015</td>\n",
              "    </tr>\n",
              "    <tr>\n",
              "      <th>3</th>\n",
              "      <td>tt2488496</td>\n",
              "      <td>200000000</td>\n",
              "      <td>2068178225</td>\n",
              "      <td>1868178225</td>\n",
              "      <td>Star Wars: The Force Awakens</td>\n",
              "      <td>28</td>\n",
              "      <td>Harrison Ford|Mark Hamill|Carrie Fisher|Adam D...</td>\n",
              "      <td>J.J. Abrams</td>\n",
              "      <td>Every generation has a story.</td>\n",
              "      <td>Thirty years after defeating the Galactic Empi...</td>\n",
              "      <td>136</td>\n",
              "      <td>Action|Adventure|Science Fiction|Fantasy</td>\n",
              "      <td>Lucasfilm|Truenorth Productions|Bad Robot</td>\n",
              "      <td>2015-12-15</td>\n",
              "      <td>December</td>\n",
              "      <td>7.5</td>\n",
              "      <td>2015</td>\n",
              "    </tr>\n",
              "    <tr>\n",
              "      <th>4</th>\n",
              "      <td>tt2820852</td>\n",
              "      <td>190000000</td>\n",
              "      <td>1506249360</td>\n",
              "      <td>1316249360</td>\n",
              "      <td>Furious 7</td>\n",
              "      <td>9</td>\n",
              "      <td>Vin Diesel|Paul Walker|Jason Statham|Michelle ...</td>\n",
              "      <td>James Wan</td>\n",
              "      <td>Vengeance Hits Home</td>\n",
              "      <td>Deckard Shaw seeks revenge against Dominic Tor...</td>\n",
              "      <td>137</td>\n",
              "      <td>Action|Crime|Thriller</td>\n",
              "      <td>Universal Pictures|Original Film|Media Rights ...</td>\n",
              "      <td>2015-04-01</td>\n",
              "      <td>April</td>\n",
              "      <td>7.3</td>\n",
              "      <td>2015</td>\n",
              "    </tr>\n",
              "    <tr>\n",
              "      <th>...</th>\n",
              "      <td>...</td>\n",
              "      <td>...</td>\n",
              "      <td>...</td>\n",
              "      <td>...</td>\n",
              "      <td>...</td>\n",
              "      <td>...</td>\n",
              "      <td>...</td>\n",
              "      <td>...</td>\n",
              "      <td>...</td>\n",
              "      <td>...</td>\n",
              "      <td>...</td>\n",
              "      <td>...</td>\n",
              "      <td>...</td>\n",
              "      <td>...</td>\n",
              "      <td>...</td>\n",
              "      <td>...</td>\n",
              "      <td>...</td>\n",
              "    </tr>\n",
              "    <tr>\n",
              "      <th>1884</th>\n",
              "      <td>tt0120903</td>\n",
              "      <td>75000000</td>\n",
              "      <td>157299717</td>\n",
              "      <td>82299717</td>\n",
              "      <td>X-Men</td>\n",
              "      <td>5</td>\n",
              "      <td>Patrick Stewart|Hugh Jackman|Ian McKellen|Hall...</td>\n",
              "      <td>Bryan Singer</td>\n",
              "      <td>Evolution Begins</td>\n",
              "      <td>Two mutants, Rogue and Wolverine, come to a pr...</td>\n",
              "      <td>104</td>\n",
              "      <td>Adventure|Action|Science Fiction</td>\n",
              "      <td>Twentieth Century Fox Film Corporation|Donners...</td>\n",
              "      <td>2000-07-13</td>\n",
              "      <td>July</td>\n",
              "      <td>6.6</td>\n",
              "      <td>2000</td>\n",
              "    </tr>\n",
              "    <tr>\n",
              "      <th>1885</th>\n",
              "      <td>tt0192255</td>\n",
              "      <td>22000000</td>\n",
              "      <td>13555988</td>\n",
              "      <td>-8444012</td>\n",
              "      <td>The Little Vampire</td>\n",
              "      <td>18</td>\n",
              "      <td>Richard E. Grant|Jonathan Lipnicki|Jim Carter|...</td>\n",
              "      <td>Uli Edel</td>\n",
              "      <td>They're not just best friends, they're blood b...</td>\n",
              "      <td>Based on the popular books, the story tells of...</td>\n",
              "      <td>95</td>\n",
              "      <td>Horror|Family|Foreign</td>\n",
              "      <td>New Line Cinema</td>\n",
              "      <td>2000-10-27</td>\n",
              "      <td>October</td>\n",
              "      <td>6.4</td>\n",
              "      <td>2000</td>\n",
              "    </tr>\n",
              "    <tr>\n",
              "      <th>1886</th>\n",
              "      <td>tt0131704</td>\n",
              "      <td>76000000</td>\n",
              "      <td>35134820</td>\n",
              "      <td>-40865180</td>\n",
              "      <td>The Adventures of Rocky &amp; Bullwinkle</td>\n",
              "      <td>36</td>\n",
              "      <td>Rene Russo|Jason Alexander|Piper Perabo|Randy ...</td>\n",
              "      <td>Des McAnuff</td>\n",
              "      <td>This summer it's not the same old bull.</td>\n",
              "      <td>Rocky and Bullwinkle have been living off the ...</td>\n",
              "      <td>88</td>\n",
              "      <td>Adventure|Animation|Action|Comedy|Family</td>\n",
              "      <td>Universal Pictures|Capella International|KC Me...</td>\n",
              "      <td>2000-06-30</td>\n",
              "      <td>June</td>\n",
              "      <td>4.0</td>\n",
              "      <td>2000</td>\n",
              "    </tr>\n",
              "    <tr>\n",
              "      <th>1887</th>\n",
              "      <td>tt0162983</td>\n",
              "      <td>40000000</td>\n",
              "      <td>36037909</td>\n",
              "      <td>-3962091</td>\n",
              "      <td>Hanging Up</td>\n",
              "      <td>10</td>\n",
              "      <td>Meg Ryan|Diane Keaton|Lisa Kudrow|Walter Matth...</td>\n",
              "      <td>Diane Keaton</td>\n",
              "      <td>Every family has a few hang-ups.</td>\n",
              "      <td>A trio of sisters bond over their ambivalence ...</td>\n",
              "      <td>94</td>\n",
              "      <td>Comedy|Drama</td>\n",
              "      <td>Laurence Mark Productions|Columbia Pictures Co...</td>\n",
              "      <td>2000-02-16</td>\n",
              "      <td>February</td>\n",
              "      <td>5.2</td>\n",
              "      <td>2000</td>\n",
              "    </tr>\n",
              "    <tr>\n",
              "      <th>1888</th>\n",
              "      <td>tt0163676</td>\n",
              "      <td>15000000</td>\n",
              "      <td>5217498</td>\n",
              "      <td>-9782502</td>\n",
              "      <td>The In Crowd</td>\n",
              "      <td>12</td>\n",
              "      <td>Susan Ward|Lori Heuring|Matthew Settle|Nathan ...</td>\n",
              "      <td>Mary Lambert</td>\n",
              "      <td>What would you do to get in?</td>\n",
              "      <td>A mentally disturbed young woman takes a job a...</td>\n",
              "      <td>105</td>\n",
              "      <td>Thriller</td>\n",
              "      <td>Warner Bros. Pictures</td>\n",
              "      <td>2000-07-19</td>\n",
              "      <td>July</td>\n",
              "      <td>5.2</td>\n",
              "      <td>2000</td>\n",
              "    </tr>\n",
              "  </tbody>\n",
              "</table>\n",
              "<p>1889 rows × 17 columns</p>\n",
              "</div>"
            ],
            "text/plain": [
              "        imdb_id     budget     revenue  ...     month vote_average  release_year\n",
              "0     tt0369610  150000000  1513528810  ...      June          6.5          2015\n",
              "1     tt1392190  150000000   378436354  ...       May          7.1          2015\n",
              "2     tt2908446  110000000   295238201  ...     March          6.3          2015\n",
              "3     tt2488496  200000000  2068178225  ...  December          7.5          2015\n",
              "4     tt2820852  190000000  1506249360  ...     April          7.3          2015\n",
              "...         ...        ...         ...  ...       ...          ...           ...\n",
              "1884  tt0120903   75000000   157299717  ...      July          6.6          2000\n",
              "1885  tt0192255   22000000    13555988  ...   October          6.4          2000\n",
              "1886  tt0131704   76000000    35134820  ...      June          4.0          2000\n",
              "1887  tt0162983   40000000    36037909  ...  February          5.2          2000\n",
              "1888  tt0163676   15000000     5217498  ...      July          5.2          2000\n",
              "\n",
              "[1889 rows x 17 columns]"
            ]
          },
          "metadata": {
            "tags": []
          }
        }
      ]
    },
    {
      "cell_type": "code",
      "metadata": {
        "colab": {
          "base_uri": "https://localhost:8080/",
          "height": 1000
        },
        "id": "h1_msyqsGWYo",
        "outputId": "7d2190a9-d451-445c-fbbc-d372668d92a0"
      },
      "source": [
        "# create overview_length column\r\n",
        "overview_length = []\r\n",
        "for index, row in data.iterrows():\r\n",
        "  overview_length.append(len(row['overview']))\r\n",
        "overview_length = pd.Series(overview_length)\r\n",
        "data.insert(10, 'overview_length', overview_length)\r\n",
        "display(data)"
      ],
      "execution_count": 257,
      "outputs": [
        {
          "output_type": "display_data",
          "data": {
            "text/html": [
              "<div>\n",
              "<style scoped>\n",
              "    .dataframe tbody tr th:only-of-type {\n",
              "        vertical-align: middle;\n",
              "    }\n",
              "\n",
              "    .dataframe tbody tr th {\n",
              "        vertical-align: top;\n",
              "    }\n",
              "\n",
              "    .dataframe thead th {\n",
              "        text-align: right;\n",
              "    }\n",
              "</style>\n",
              "<table border=\"1\" class=\"dataframe\">\n",
              "  <thead>\n",
              "    <tr style=\"text-align: right;\">\n",
              "      <th></th>\n",
              "      <th>imdb_id</th>\n",
              "      <th>budget</th>\n",
              "      <th>revenue</th>\n",
              "      <th>profit</th>\n",
              "      <th>original_title</th>\n",
              "      <th>title_length</th>\n",
              "      <th>cast</th>\n",
              "      <th>director</th>\n",
              "      <th>tagline</th>\n",
              "      <th>overview</th>\n",
              "      <th>overview_length</th>\n",
              "      <th>runtime</th>\n",
              "      <th>genres</th>\n",
              "      <th>production_companies</th>\n",
              "      <th>release_date</th>\n",
              "      <th>month</th>\n",
              "      <th>vote_average</th>\n",
              "      <th>release_year</th>\n",
              "    </tr>\n",
              "  </thead>\n",
              "  <tbody>\n",
              "    <tr>\n",
              "      <th>0</th>\n",
              "      <td>tt0369610</td>\n",
              "      <td>150000000</td>\n",
              "      <td>1513528810</td>\n",
              "      <td>1363528810</td>\n",
              "      <td>Jurassic World</td>\n",
              "      <td>14</td>\n",
              "      <td>Chris Pratt|Bryce Dallas Howard|Irrfan Khan|Vi...</td>\n",
              "      <td>Colin Trevorrow</td>\n",
              "      <td>The park is open.</td>\n",
              "      <td>Twenty-two years after the events of Jurassic ...</td>\n",
              "      <td>175</td>\n",
              "      <td>124</td>\n",
              "      <td>Action|Adventure|Science Fiction|Thriller</td>\n",
              "      <td>Universal Studios|Amblin Entertainment|Legenda...</td>\n",
              "      <td>2015-06-09</td>\n",
              "      <td>June</td>\n",
              "      <td>6.5</td>\n",
              "      <td>2015</td>\n",
              "    </tr>\n",
              "    <tr>\n",
              "      <th>1</th>\n",
              "      <td>tt1392190</td>\n",
              "      <td>150000000</td>\n",
              "      <td>378436354</td>\n",
              "      <td>228436354</td>\n",
              "      <td>Mad Max: Fury Road</td>\n",
              "      <td>18</td>\n",
              "      <td>Tom Hardy|Charlize Theron|Hugh Keays-Byrne|Nic...</td>\n",
              "      <td>George Miller</td>\n",
              "      <td>What a Lovely Day.</td>\n",
              "      <td>An apocalyptic story set in the furthest reach...</td>\n",
              "      <td>581</td>\n",
              "      <td>120</td>\n",
              "      <td>Action|Adventure|Science Fiction|Thriller</td>\n",
              "      <td>Village Roadshow Pictures|Kennedy Miller Produ...</td>\n",
              "      <td>2015-05-13</td>\n",
              "      <td>May</td>\n",
              "      <td>7.1</td>\n",
              "      <td>2015</td>\n",
              "    </tr>\n",
              "    <tr>\n",
              "      <th>2</th>\n",
              "      <td>tt2908446</td>\n",
              "      <td>110000000</td>\n",
              "      <td>295238201</td>\n",
              "      <td>185238201</td>\n",
              "      <td>Insurgent</td>\n",
              "      <td>9</td>\n",
              "      <td>Shailene Woodley|Theo James|Kate Winslet|Ansel...</td>\n",
              "      <td>Robert Schwentke</td>\n",
              "      <td>One Choice Can Destroy You</td>\n",
              "      <td>Beatrice Prior must confront her inner demons ...</td>\n",
              "      <td>139</td>\n",
              "      <td>119</td>\n",
              "      <td>Adventure|Science Fiction|Thriller</td>\n",
              "      <td>Summit Entertainment|Mandeville Films|Red Wago...</td>\n",
              "      <td>2015-03-18</td>\n",
              "      <td>March</td>\n",
              "      <td>6.3</td>\n",
              "      <td>2015</td>\n",
              "    </tr>\n",
              "    <tr>\n",
              "      <th>3</th>\n",
              "      <td>tt2488496</td>\n",
              "      <td>200000000</td>\n",
              "      <td>2068178225</td>\n",
              "      <td>1868178225</td>\n",
              "      <td>Star Wars: The Force Awakens</td>\n",
              "      <td>28</td>\n",
              "      <td>Harrison Ford|Mark Hamill|Carrie Fisher|Adam D...</td>\n",
              "      <td>J.J. Abrams</td>\n",
              "      <td>Every generation has a story.</td>\n",
              "      <td>Thirty years after defeating the Galactic Empi...</td>\n",
              "      <td>145</td>\n",
              "      <td>136</td>\n",
              "      <td>Action|Adventure|Science Fiction|Fantasy</td>\n",
              "      <td>Lucasfilm|Truenorth Productions|Bad Robot</td>\n",
              "      <td>2015-12-15</td>\n",
              "      <td>December</td>\n",
              "      <td>7.5</td>\n",
              "      <td>2015</td>\n",
              "    </tr>\n",
              "    <tr>\n",
              "      <th>4</th>\n",
              "      <td>tt2820852</td>\n",
              "      <td>190000000</td>\n",
              "      <td>1506249360</td>\n",
              "      <td>1316249360</td>\n",
              "      <td>Furious 7</td>\n",
              "      <td>9</td>\n",
              "      <td>Vin Diesel|Paul Walker|Jason Statham|Michelle ...</td>\n",
              "      <td>James Wan</td>\n",
              "      <td>Vengeance Hits Home</td>\n",
              "      <td>Deckard Shaw seeks revenge against Dominic Tor...</td>\n",
              "      <td>91</td>\n",
              "      <td>137</td>\n",
              "      <td>Action|Crime|Thriller</td>\n",
              "      <td>Universal Pictures|Original Film|Media Rights ...</td>\n",
              "      <td>2015-04-01</td>\n",
              "      <td>April</td>\n",
              "      <td>7.3</td>\n",
              "      <td>2015</td>\n",
              "    </tr>\n",
              "    <tr>\n",
              "      <th>...</th>\n",
              "      <td>...</td>\n",
              "      <td>...</td>\n",
              "      <td>...</td>\n",
              "      <td>...</td>\n",
              "      <td>...</td>\n",
              "      <td>...</td>\n",
              "      <td>...</td>\n",
              "      <td>...</td>\n",
              "      <td>...</td>\n",
              "      <td>...</td>\n",
              "      <td>...</td>\n",
              "      <td>...</td>\n",
              "      <td>...</td>\n",
              "      <td>...</td>\n",
              "      <td>...</td>\n",
              "      <td>...</td>\n",
              "      <td>...</td>\n",
              "      <td>...</td>\n",
              "    </tr>\n",
              "    <tr>\n",
              "      <th>1884</th>\n",
              "      <td>tt0120903</td>\n",
              "      <td>75000000</td>\n",
              "      <td>157299717</td>\n",
              "      <td>82299717</td>\n",
              "      <td>X-Men</td>\n",
              "      <td>5</td>\n",
              "      <td>Patrick Stewart|Hugh Jackman|Ian McKellen|Hall...</td>\n",
              "      <td>Bryan Singer</td>\n",
              "      <td>Evolution Begins</td>\n",
              "      <td>Two mutants, Rogue and Wolverine, come to a pr...</td>\n",
              "      <td>174</td>\n",
              "      <td>104</td>\n",
              "      <td>Adventure|Action|Science Fiction</td>\n",
              "      <td>Twentieth Century Fox Film Corporation|Donners...</td>\n",
              "      <td>2000-07-13</td>\n",
              "      <td>July</td>\n",
              "      <td>6.6</td>\n",
              "      <td>2000</td>\n",
              "    </tr>\n",
              "    <tr>\n",
              "      <th>1885</th>\n",
              "      <td>tt0192255</td>\n",
              "      <td>22000000</td>\n",
              "      <td>13555988</td>\n",
              "      <td>-8444012</td>\n",
              "      <td>The Little Vampire</td>\n",
              "      <td>18</td>\n",
              "      <td>Richard E. Grant|Jonathan Lipnicki|Jim Carter|...</td>\n",
              "      <td>Uli Edel</td>\n",
              "      <td>They're not just best friends, they're blood b...</td>\n",
              "      <td>Based on the popular books, the story tells of...</td>\n",
              "      <td>390</td>\n",
              "      <td>95</td>\n",
              "      <td>Horror|Family|Foreign</td>\n",
              "      <td>New Line Cinema</td>\n",
              "      <td>2000-10-27</td>\n",
              "      <td>October</td>\n",
              "      <td>6.4</td>\n",
              "      <td>2000</td>\n",
              "    </tr>\n",
              "    <tr>\n",
              "      <th>1886</th>\n",
              "      <td>tt0131704</td>\n",
              "      <td>76000000</td>\n",
              "      <td>35134820</td>\n",
              "      <td>-40865180</td>\n",
              "      <td>The Adventures of Rocky &amp; Bullwinkle</td>\n",
              "      <td>36</td>\n",
              "      <td>Rene Russo|Jason Alexander|Piper Perabo|Randy ...</td>\n",
              "      <td>Des McAnuff</td>\n",
              "      <td>This summer it's not the same old bull.</td>\n",
              "      <td>Rocky and Bullwinkle have been living off the ...</td>\n",
              "      <td>337</td>\n",
              "      <td>88</td>\n",
              "      <td>Adventure|Animation|Action|Comedy|Family</td>\n",
              "      <td>Universal Pictures|Capella International|KC Me...</td>\n",
              "      <td>2000-06-30</td>\n",
              "      <td>June</td>\n",
              "      <td>4.0</td>\n",
              "      <td>2000</td>\n",
              "    </tr>\n",
              "    <tr>\n",
              "      <th>1887</th>\n",
              "      <td>tt0162983</td>\n",
              "      <td>40000000</td>\n",
              "      <td>36037909</td>\n",
              "      <td>-3962091</td>\n",
              "      <td>Hanging Up</td>\n",
              "      <td>10</td>\n",
              "      <td>Meg Ryan|Diane Keaton|Lisa Kudrow|Walter Matth...</td>\n",
              "      <td>Diane Keaton</td>\n",
              "      <td>Every family has a few hang-ups.</td>\n",
              "      <td>A trio of sisters bond over their ambivalence ...</td>\n",
              "      <td>149</td>\n",
              "      <td>94</td>\n",
              "      <td>Comedy|Drama</td>\n",
              "      <td>Laurence Mark Productions|Columbia Pictures Co...</td>\n",
              "      <td>2000-02-16</td>\n",
              "      <td>February</td>\n",
              "      <td>5.2</td>\n",
              "      <td>2000</td>\n",
              "    </tr>\n",
              "    <tr>\n",
              "      <th>1888</th>\n",
              "      <td>tt0163676</td>\n",
              "      <td>15000000</td>\n",
              "      <td>5217498</td>\n",
              "      <td>-9782502</td>\n",
              "      <td>The In Crowd</td>\n",
              "      <td>12</td>\n",
              "      <td>Susan Ward|Lori Heuring|Matthew Settle|Nathan ...</td>\n",
              "      <td>Mary Lambert</td>\n",
              "      <td>What would you do to get in?</td>\n",
              "      <td>A mentally disturbed young woman takes a job a...</td>\n",
              "      <td>237</td>\n",
              "      <td>105</td>\n",
              "      <td>Thriller</td>\n",
              "      <td>Warner Bros. Pictures</td>\n",
              "      <td>2000-07-19</td>\n",
              "      <td>July</td>\n",
              "      <td>5.2</td>\n",
              "      <td>2000</td>\n",
              "    </tr>\n",
              "  </tbody>\n",
              "</table>\n",
              "<p>1889 rows × 18 columns</p>\n",
              "</div>"
            ],
            "text/plain": [
              "        imdb_id     budget     revenue  ...     month vote_average  release_year\n",
              "0     tt0369610  150000000  1513528810  ...      June          6.5          2015\n",
              "1     tt1392190  150000000   378436354  ...       May          7.1          2015\n",
              "2     tt2908446  110000000   295238201  ...     March          6.3          2015\n",
              "3     tt2488496  200000000  2068178225  ...  December          7.5          2015\n",
              "4     tt2820852  190000000  1506249360  ...     April          7.3          2015\n",
              "...         ...        ...         ...  ...       ...          ...           ...\n",
              "1884  tt0120903   75000000   157299717  ...      July          6.6          2000\n",
              "1885  tt0192255   22000000    13555988  ...   October          6.4          2000\n",
              "1886  tt0131704   76000000    35134820  ...      June          4.0          2000\n",
              "1887  tt0162983   40000000    36037909  ...  February          5.2          2000\n",
              "1888  tt0163676   15000000     5217498  ...      July          5.2          2000\n",
              "\n",
              "[1889 rows x 18 columns]"
            ]
          },
          "metadata": {
            "tags": []
          }
        }
      ]
    },
    {
      "cell_type": "code",
      "metadata": {
        "id": "GR77EpdOgjn0"
      },
      "source": [
        "# explode genres, director, companies and cast columns\r\n",
        "def getListItems(strItems):\r\n",
        "  return strItems.split('|')\r\n",
        "\r\n",
        "\r\n",
        "\r\n",
        "dataExploded = data.copy()\r\n",
        "dataExploded.genres = dataExploded.genres.apply(getListItems)\r\n",
        "dataExploded = dataExploded.explode('genres')\r\n",
        "\r\n",
        "dataExploded.director = dataExploded.director.apply(getListItems)\r\n",
        "dataExploded = dataExploded.explode('director')\r\n",
        "\r\n",
        "dataExploded.production_companies = dataExploded.production_companies.apply(getListItems)\r\n",
        "dataExploded = dataExploded.explode('production_companies')\r\n",
        "\r\n",
        "dataExploded.cast = dataExploded.cast.apply(getListItems)\r\n",
        "dataExploded = dataExploded.explode('cast')\r\n",
        "#display(data)"
      ],
      "execution_count": 258,
      "outputs": []
    },
    {
      "cell_type": "code",
      "metadata": {
        "id": "kQ9Z-0He6gsM"
      },
      "source": [
        "def countById(series):\r\n",
        "  return len(series.unique())\r\n"
      ],
      "execution_count": null,
      "outputs": []
    },
    {
      "cell_type": "markdown",
      "metadata": {
        "id": "YxZaH-nPVp-L"
      },
      "source": [
        "# 1. У какого фильма из списка самый большой бюджет?"
      ]
    },
    {
      "cell_type": "markdown",
      "metadata": {
        "id": "Nd-G5gX6Vp-M"
      },
      "source": [
        "Использовать варианты ответов в коде решения запрещено.    \n",
        "Вы думаете и в жизни у вас будут варианты ответов?)"
      ]
    },
    {
      "cell_type": "code",
      "metadata": {
        "id": "uVnXAY5RVp-O"
      },
      "source": [
        "answers['1'] = '1. Pirates of the Caribbean: On Stranger Tides (tt1298650)'"
      ],
      "execution_count": 325,
      "outputs": []
    },
    {
      "cell_type": "code",
      "metadata": {
        "id": "dZwb3m28Vp-S",
        "colab": {
          "base_uri": "https://localhost:8080/",
          "height": 77
        },
        "outputId": "50cbcd64-773f-45e7-9ff4-1af4cbafce13"
      },
      "source": [
        "# тут пишем ваш код для решения данного вопроса:\r\n",
        "display(data[data.budget == data.budget.max()][['original_title', 'imdb_id']])"
      ],
      "execution_count": null,
      "outputs": [
        {
          "output_type": "display_data",
          "data": {
            "text/html": [
              "<div>\n",
              "<style scoped>\n",
              "    .dataframe tbody tr th:only-of-type {\n",
              "        vertical-align: middle;\n",
              "    }\n",
              "\n",
              "    .dataframe tbody tr th {\n",
              "        vertical-align: top;\n",
              "    }\n",
              "\n",
              "    .dataframe thead th {\n",
              "        text-align: right;\n",
              "    }\n",
              "</style>\n",
              "<table border=\"1\" class=\"dataframe\">\n",
              "  <thead>\n",
              "    <tr style=\"text-align: right;\">\n",
              "      <th></th>\n",
              "      <th>original_title</th>\n",
              "      <th>imdb_id</th>\n",
              "    </tr>\n",
              "  </thead>\n",
              "  <tbody>\n",
              "    <tr>\n",
              "      <th>723</th>\n",
              "      <td>Pirates of the Caribbean: On Stranger Tides</td>\n",
              "      <td>tt1298650</td>\n",
              "    </tr>\n",
              "  </tbody>\n",
              "</table>\n",
              "</div>"
            ],
            "text/plain": [
              "                                  original_title    imdb_id\n",
              "723  Pirates of the Caribbean: On Stranger Tides  tt1298650"
            ]
          },
          "metadata": {
            "tags": []
          }
        }
      ]
    },
    {
      "cell_type": "markdown",
      "metadata": {
        "id": "FNRbbI3vVp-c"
      },
      "source": [
        "# 2. Какой из фильмов самый длительный (в минутах)?"
      ]
    },
    {
      "cell_type": "code",
      "metadata": {
        "id": "vHAoEXNTVp-d"
      },
      "source": [
        "# думаю логику работы с этим словарем вы уже поняли, \n",
        "# по этому не буду больше его дублировать\n",
        "answers['2'] = '2. Gods and Generals (tt0279111)'"
      ],
      "execution_count": 326,
      "outputs": []
    },
    {
      "cell_type": "code",
      "metadata": {
        "id": "ot-VX2XrVp-g",
        "colab": {
          "base_uri": "https://localhost:8080/",
          "height": 77
        },
        "outputId": "faabdd36-da76-45c4-f63d-c03d3b4f59d4"
      },
      "source": [
        "display(data[data.runtime == data.runtime.max()][['original_title', 'imdb_id']])"
      ],
      "execution_count": null,
      "outputs": [
        {
          "output_type": "display_data",
          "data": {
            "text/html": [
              "<div>\n",
              "<style scoped>\n",
              "    .dataframe tbody tr th:only-of-type {\n",
              "        vertical-align: middle;\n",
              "    }\n",
              "\n",
              "    .dataframe tbody tr th {\n",
              "        vertical-align: top;\n",
              "    }\n",
              "\n",
              "    .dataframe thead th {\n",
              "        text-align: right;\n",
              "    }\n",
              "</style>\n",
              "<table border=\"1\" class=\"dataframe\">\n",
              "  <thead>\n",
              "    <tr style=\"text-align: right;\">\n",
              "      <th></th>\n",
              "      <th>original_title</th>\n",
              "      <th>imdb_id</th>\n",
              "    </tr>\n",
              "  </thead>\n",
              "  <tbody>\n",
              "    <tr>\n",
              "      <th>1157</th>\n",
              "      <td>Gods and Generals</td>\n",
              "      <td>tt0279111</td>\n",
              "    </tr>\n",
              "  </tbody>\n",
              "</table>\n",
              "</div>"
            ],
            "text/plain": [
              "         original_title    imdb_id\n",
              "1157  Gods and Generals  tt0279111"
            ]
          },
          "metadata": {
            "tags": []
          }
        }
      ]
    },
    {
      "cell_type": "markdown",
      "metadata": {
        "id": "bapLlpW8Vp-k"
      },
      "source": [
        "# 3. Какой из фильмов самый короткий (в минутах)?\n",
        "\n",
        "\n",
        "\n"
      ]
    },
    {
      "cell_type": "code",
      "metadata": {
        "id": "YBxaSHuAVp-l",
        "colab": {
          "base_uri": "https://localhost:8080/",
          "height": 77
        },
        "outputId": "d07051b9-a32f-474e-d196-2b1706d968b9"
      },
      "source": [
        "answers['3'] = '3. Winnie the Pooh (tt1449283)'\r\n",
        "display(data[data.runtime == data.runtime.min()][['original_title', 'imdb_id']])"
      ],
      "execution_count": 327,
      "outputs": [
        {
          "output_type": "display_data",
          "data": {
            "text/html": [
              "<div>\n",
              "<style scoped>\n",
              "    .dataframe tbody tr th:only-of-type {\n",
              "        vertical-align: middle;\n",
              "    }\n",
              "\n",
              "    .dataframe tbody tr th {\n",
              "        vertical-align: top;\n",
              "    }\n",
              "\n",
              "    .dataframe thead th {\n",
              "        text-align: right;\n",
              "    }\n",
              "</style>\n",
              "<table border=\"1\" class=\"dataframe\">\n",
              "  <thead>\n",
              "    <tr style=\"text-align: right;\">\n",
              "      <th></th>\n",
              "      <th>original_title</th>\n",
              "      <th>imdb_id</th>\n",
              "    </tr>\n",
              "  </thead>\n",
              "  <tbody>\n",
              "    <tr>\n",
              "      <th>768</th>\n",
              "      <td>Winnie the Pooh</td>\n",
              "      <td>tt1449283</td>\n",
              "    </tr>\n",
              "  </tbody>\n",
              "</table>\n",
              "</div>"
            ],
            "text/plain": [
              "      original_title    imdb_id\n",
              "768  Winnie the Pooh  tt1449283"
            ]
          },
          "metadata": {
            "tags": []
          }
        }
      ]
    },
    {
      "cell_type": "markdown",
      "metadata": {
        "id": "TfQbxbfNVp-p"
      },
      "source": [
        "# 4. Какова средняя длительность фильмов?\n"
      ]
    },
    {
      "cell_type": "code",
      "metadata": {
        "id": "5K6dKZYVVp-q",
        "colab": {
          "base_uri": "https://localhost:8080/",
          "height": 34
        },
        "outputId": "9f77e807-7808-43d2-f15c-83f7c64175b1"
      },
      "source": [
        "answers['4'] = '4. 109.6585494970884'\r\n",
        "display(data.runtime.mean())"
      ],
      "execution_count": 328,
      "outputs": [
        {
          "output_type": "display_data",
          "data": {
            "text/plain": [
              "109.6585494970884"
            ]
          },
          "metadata": {
            "tags": []
          }
        }
      ]
    },
    {
      "cell_type": "markdown",
      "metadata": {
        "id": "r5TvbnT_Vp-u"
      },
      "source": [
        "# 5. Каково медианное значение длительности фильмов? "
      ]
    },
    {
      "cell_type": "code",
      "metadata": {
        "id": "iBROplKnVp-v",
        "colab": {
          "base_uri": "https://localhost:8080/",
          "height": 34
        },
        "outputId": "fe98965e-74e7-4b1a-9e28-1dcbd103931d"
      },
      "source": [
        "answers['5'] = '5. 107'\r\n",
        "display(data.runtime.median())"
      ],
      "execution_count": 329,
      "outputs": [
        {
          "output_type": "display_data",
          "data": {
            "text/plain": [
              "107.0"
            ]
          },
          "metadata": {
            "tags": []
          }
        }
      ]
    },
    {
      "cell_type": "markdown",
      "metadata": {
        "id": "39P-deDSVp-y"
      },
      "source": [
        "# 6. Какой самый прибыльный фильм?\n",
        "#### Внимание! Здесь и далее под «прибылью» или «убытками» понимается разность между сборами и бюджетом фильма. (прибыль = сборы - бюджет) в нашем датасете это будет (profit = revenue - budget) "
      ]
    },
    {
      "cell_type": "code",
      "metadata": {
        "id": "UYZh4T9WVp-y",
        "colab": {
          "base_uri": "https://localhost:8080/",
          "height": 181
        },
        "outputId": "bee24723-2c0c-4bdb-e38a-b39115bd6faf"
      },
      "source": [
        "# лучше код получения столбца profit вынести в Предобработку что в начале\r\n",
        "answers['6'] = '6. Avatar (tt0499549)'\r\n",
        "display(data[data.profit == data.profit.max()])"
      ],
      "execution_count": 330,
      "outputs": [
        {
          "output_type": "display_data",
          "data": {
            "text/html": [
              "<div>\n",
              "<style scoped>\n",
              "    .dataframe tbody tr th:only-of-type {\n",
              "        vertical-align: middle;\n",
              "    }\n",
              "\n",
              "    .dataframe tbody tr th {\n",
              "        vertical-align: top;\n",
              "    }\n",
              "\n",
              "    .dataframe thead th {\n",
              "        text-align: right;\n",
              "    }\n",
              "</style>\n",
              "<table border=\"1\" class=\"dataframe\">\n",
              "  <thead>\n",
              "    <tr style=\"text-align: right;\">\n",
              "      <th></th>\n",
              "      <th>imdb_id</th>\n",
              "      <th>budget</th>\n",
              "      <th>revenue</th>\n",
              "      <th>profit</th>\n",
              "      <th>original_title</th>\n",
              "      <th>title_length</th>\n",
              "      <th>cast</th>\n",
              "      <th>director</th>\n",
              "      <th>tagline</th>\n",
              "      <th>overview</th>\n",
              "      <th>overview_length</th>\n",
              "      <th>runtime</th>\n",
              "      <th>genres</th>\n",
              "      <th>production_companies</th>\n",
              "      <th>release_date</th>\n",
              "      <th>month</th>\n",
              "      <th>vote_average</th>\n",
              "      <th>release_year</th>\n",
              "    </tr>\n",
              "  </thead>\n",
              "  <tbody>\n",
              "    <tr>\n",
              "      <th>239</th>\n",
              "      <td>tt0499549</td>\n",
              "      <td>237000000</td>\n",
              "      <td>2781505847</td>\n",
              "      <td>2544505847</td>\n",
              "      <td>Avatar</td>\n",
              "      <td>6</td>\n",
              "      <td>Sam Worthington|Zoe Saldana|Sigourney Weaver|S...</td>\n",
              "      <td>James Cameron</td>\n",
              "      <td>Enter the World of Pandora.</td>\n",
              "      <td>In the 22nd century, a paraplegic Marine is di...</td>\n",
              "      <td>175</td>\n",
              "      <td>162</td>\n",
              "      <td>Action|Adventure|Fantasy|Science Fiction</td>\n",
              "      <td>Ingenious Film Partners|Twentieth Century Fox ...</td>\n",
              "      <td>2009-12-10</td>\n",
              "      <td>December</td>\n",
              "      <td>7.1</td>\n",
              "      <td>2009</td>\n",
              "    </tr>\n",
              "  </tbody>\n",
              "</table>\n",
              "</div>"
            ],
            "text/plain": [
              "       imdb_id     budget     revenue  ...     month vote_average  release_year\n",
              "239  tt0499549  237000000  2781505847  ...  December          7.1          2009\n",
              "\n",
              "[1 rows x 18 columns]"
            ]
          },
          "metadata": {
            "tags": []
          }
        }
      ]
    },
    {
      "cell_type": "markdown",
      "metadata": {
        "id": "M99JmIX4Vp-2"
      },
      "source": [
        "# 7. Какой фильм самый убыточный? "
      ]
    },
    {
      "cell_type": "code",
      "metadata": {
        "id": "w-D2m4XPVp-3",
        "colab": {
          "base_uri": "https://localhost:8080/",
          "height": 198
        },
        "outputId": "9521a97c-4135-4c31-9fb1-266074fc6d79"
      },
      "source": [
        "answers['7'] = '7. The Lone Ranger (tt1210819)'\r\n",
        "display(data[data.profit == data.profit.min()])"
      ],
      "execution_count": 331,
      "outputs": [
        {
          "output_type": "display_data",
          "data": {
            "text/html": [
              "<div>\n",
              "<style scoped>\n",
              "    .dataframe tbody tr th:only-of-type {\n",
              "        vertical-align: middle;\n",
              "    }\n",
              "\n",
              "    .dataframe tbody tr th {\n",
              "        vertical-align: top;\n",
              "    }\n",
              "\n",
              "    .dataframe thead th {\n",
              "        text-align: right;\n",
              "    }\n",
              "</style>\n",
              "<table border=\"1\" class=\"dataframe\">\n",
              "  <thead>\n",
              "    <tr style=\"text-align: right;\">\n",
              "      <th></th>\n",
              "      <th>imdb_id</th>\n",
              "      <th>budget</th>\n",
              "      <th>revenue</th>\n",
              "      <th>profit</th>\n",
              "      <th>original_title</th>\n",
              "      <th>title_length</th>\n",
              "      <th>cast</th>\n",
              "      <th>director</th>\n",
              "      <th>tagline</th>\n",
              "      <th>overview</th>\n",
              "      <th>overview_length</th>\n",
              "      <th>runtime</th>\n",
              "      <th>genres</th>\n",
              "      <th>production_companies</th>\n",
              "      <th>release_date</th>\n",
              "      <th>month</th>\n",
              "      <th>vote_average</th>\n",
              "      <th>release_year</th>\n",
              "    </tr>\n",
              "  </thead>\n",
              "  <tbody>\n",
              "    <tr>\n",
              "      <th>1245</th>\n",
              "      <td>tt1210819</td>\n",
              "      <td>255000000</td>\n",
              "      <td>89289910</td>\n",
              "      <td>-165710090</td>\n",
              "      <td>The Lone Ranger</td>\n",
              "      <td>15</td>\n",
              "      <td>Johnny Depp|Armie Hammer|William Fichtner|Hele...</td>\n",
              "      <td>Gore Verbinski</td>\n",
              "      <td>Never Take Off the Mask</td>\n",
              "      <td>The Texas Rangers chase down a gang of outlaws...</td>\n",
              "      <td>386</td>\n",
              "      <td>149</td>\n",
              "      <td>Action|Adventure|Western</td>\n",
              "      <td>Walt Disney Pictures|Jerry Bruckheimer Films|I...</td>\n",
              "      <td>2013-07-03</td>\n",
              "      <td>July</td>\n",
              "      <td>6.0</td>\n",
              "      <td>2013</td>\n",
              "    </tr>\n",
              "  </tbody>\n",
              "</table>\n",
              "</div>"
            ],
            "text/plain": [
              "        imdb_id     budget   revenue  ...  month vote_average  release_year\n",
              "1245  tt1210819  255000000  89289910  ...   July          6.0          2013\n",
              "\n",
              "[1 rows x 18 columns]"
            ]
          },
          "metadata": {
            "tags": []
          }
        }
      ]
    },
    {
      "cell_type": "markdown",
      "metadata": {
        "id": "wEOM5ERVVp-6"
      },
      "source": [
        "# 8. У скольких фильмов из датасета объем сборов оказался выше бюджета?"
      ]
    },
    {
      "cell_type": "code",
      "metadata": {
        "id": "y00_7HD6Vp-7",
        "colab": {
          "base_uri": "https://localhost:8080/",
          "height": 34
        },
        "outputId": "8aed4f67-4026-4953-bb37-5a94af74780c"
      },
      "source": [
        "answers['8'] = '8. 1478'\r\n",
        "display(len(data[data.profit > 0]))"
      ],
      "execution_count": 332,
      "outputs": [
        {
          "output_type": "display_data",
          "data": {
            "text/plain": [
              "1478"
            ]
          },
          "metadata": {
            "tags": []
          }
        }
      ]
    },
    {
      "cell_type": "markdown",
      "metadata": {
        "id": "xhpspA9KVp_A"
      },
      "source": [
        "# 9. Какой фильм оказался самым кассовым в 2008 году?"
      ]
    },
    {
      "cell_type": "code",
      "metadata": {
        "id": "MoUyQr9RVp_B",
        "colab": {
          "base_uri": "https://localhost:8080/",
          "height": 1000
        },
        "outputId": "d2bfba25-24fe-4ecd-967e-7285c4b9c770"
      },
      "source": [
        "answers['9'] = '9. The Dark Knight (tt0468569)'\r\n",
        "display(data[data.release_year == 2008].sort_values(by=['revenue'], ascending=False))"
      ],
      "execution_count": 333,
      "outputs": [
        {
          "output_type": "display_data",
          "data": {
            "text/html": [
              "<div>\n",
              "<style scoped>\n",
              "    .dataframe tbody tr th:only-of-type {\n",
              "        vertical-align: middle;\n",
              "    }\n",
              "\n",
              "    .dataframe tbody tr th {\n",
              "        vertical-align: top;\n",
              "    }\n",
              "\n",
              "    .dataframe thead th {\n",
              "        text-align: right;\n",
              "    }\n",
              "</style>\n",
              "<table border=\"1\" class=\"dataframe\">\n",
              "  <thead>\n",
              "    <tr style=\"text-align: right;\">\n",
              "      <th></th>\n",
              "      <th>imdb_id</th>\n",
              "      <th>budget</th>\n",
              "      <th>revenue</th>\n",
              "      <th>profit</th>\n",
              "      <th>original_title</th>\n",
              "      <th>title_length</th>\n",
              "      <th>cast</th>\n",
              "      <th>director</th>\n",
              "      <th>tagline</th>\n",
              "      <th>overview</th>\n",
              "      <th>overview_length</th>\n",
              "      <th>runtime</th>\n",
              "      <th>genres</th>\n",
              "      <th>production_companies</th>\n",
              "      <th>release_date</th>\n",
              "      <th>month</th>\n",
              "      <th>vote_average</th>\n",
              "      <th>release_year</th>\n",
              "    </tr>\n",
              "  </thead>\n",
              "  <tbody>\n",
              "    <tr>\n",
              "      <th>599</th>\n",
              "      <td>tt0468569</td>\n",
              "      <td>185000000</td>\n",
              "      <td>1001921825</td>\n",
              "      <td>816921825</td>\n",
              "      <td>The Dark Knight</td>\n",
              "      <td>15</td>\n",
              "      <td>Christian Bale|Michael Caine|Heath Ledger|Aaro...</td>\n",
              "      <td>Christopher Nolan</td>\n",
              "      <td>Why So Serious?</td>\n",
              "      <td>Batman raises the stakes in his war on crime. ...</td>\n",
              "      <td>396</td>\n",
              "      <td>152</td>\n",
              "      <td>Drama|Action|Crime|Thriller</td>\n",
              "      <td>DC Comics|Legendary Pictures|Warner Bros.|Syncopy</td>\n",
              "      <td>2008-07-16</td>\n",
              "      <td>July</td>\n",
              "      <td>8.1</td>\n",
              "      <td>2008</td>\n",
              "    </tr>\n",
              "    <tr>\n",
              "      <th>603</th>\n",
              "      <td>tt0367882</td>\n",
              "      <td>185000000</td>\n",
              "      <td>786636033</td>\n",
              "      <td>601636033</td>\n",
              "      <td>Indiana Jones and the Kingdom of the Crystal S...</td>\n",
              "      <td>50</td>\n",
              "      <td>Harrison Ford|Cate Blanchett|Shia LaBeouf|Ray ...</td>\n",
              "      <td>Steven Spielberg</td>\n",
              "      <td>The adventure continues . . .</td>\n",
              "      <td>Set during the Cold War, the Soviets â€“ led b...</td>\n",
              "      <td>416</td>\n",
              "      <td>122</td>\n",
              "      <td>Adventure|Action</td>\n",
              "      <td>Lucasfilm|Paramount Pictures</td>\n",
              "      <td>2008-05-21</td>\n",
              "      <td>May</td>\n",
              "      <td>5.6</td>\n",
              "      <td>2008</td>\n",
              "    </tr>\n",
              "    <tr>\n",
              "      <th>606</th>\n",
              "      <td>tt0441773</td>\n",
              "      <td>130000000</td>\n",
              "      <td>631744560</td>\n",
              "      <td>501744560</td>\n",
              "      <td>Kung Fu Panda</td>\n",
              "      <td>13</td>\n",
              "      <td>Jack Black|Dustin Hoffman|Angelina Jolie|Jacki...</td>\n",
              "      <td>Mark Osborne|John Stevenson</td>\n",
              "      <td>Prepare for awesomeness.</td>\n",
              "      <td>When the Valley of Peace is threatened, lazy P...</td>\n",
              "      <td>319</td>\n",
              "      <td>90</td>\n",
              "      <td>Animation|Family</td>\n",
              "      <td>DreamWorks Animation</td>\n",
              "      <td>2008-06-04</td>\n",
              "      <td>June</td>\n",
              "      <td>6.8</td>\n",
              "      <td>2008</td>\n",
              "    </tr>\n",
              "    <tr>\n",
              "      <th>621</th>\n",
              "      <td>tt0448157</td>\n",
              "      <td>150000000</td>\n",
              "      <td>624029371</td>\n",
              "      <td>474029371</td>\n",
              "      <td>Hancock</td>\n",
              "      <td>7</td>\n",
              "      <td>Will Smith|Charlize Theron|Jason Bateman|Jae H...</td>\n",
              "      <td>Peter Berg</td>\n",
              "      <td>Bad Behavior. Bad Attitude. Real Hero.</td>\n",
              "      <td>Hancock is a down-and-out superhero who's forc...</td>\n",
              "      <td>359</td>\n",
              "      <td>92</td>\n",
              "      <td>Fantasy|Action</td>\n",
              "      <td>Columbia Pictures|Weed Road Pictures|Forward P...</td>\n",
              "      <td>2008-07-01</td>\n",
              "      <td>July</td>\n",
              "      <td>6.0</td>\n",
              "      <td>2008</td>\n",
              "    </tr>\n",
              "    <tr>\n",
              "      <th>607</th>\n",
              "      <td>tt0795421</td>\n",
              "      <td>52000000</td>\n",
              "      <td>609841637</td>\n",
              "      <td>557841637</td>\n",
              "      <td>Mamma Mia!</td>\n",
              "      <td>10</td>\n",
              "      <td>Meryl Streep|Pierce Brosnan|Amanda Seyfried|Co...</td>\n",
              "      <td>Phyllida Lloyd</td>\n",
              "      <td>Take a trip down the aisle you'll never forget</td>\n",
              "      <td>Set on an idyllic Greek island, the plot serve...</td>\n",
              "      <td>347</td>\n",
              "      <td>108</td>\n",
              "      <td>Comedy|Romance</td>\n",
              "      <td>Universal Pictures|Internationale Filmprodukti...</td>\n",
              "      <td>2008-06-30</td>\n",
              "      <td>June</td>\n",
              "      <td>6.2</td>\n",
              "      <td>2008</td>\n",
              "    </tr>\n",
              "    <tr>\n",
              "      <th>...</th>\n",
              "      <td>...</td>\n",
              "      <td>...</td>\n",
              "      <td>...</td>\n",
              "      <td>...</td>\n",
              "      <td>...</td>\n",
              "      <td>...</td>\n",
              "      <td>...</td>\n",
              "      <td>...</td>\n",
              "      <td>...</td>\n",
              "      <td>...</td>\n",
              "      <td>...</td>\n",
              "      <td>...</td>\n",
              "      <td>...</td>\n",
              "      <td>...</td>\n",
              "      <td>...</td>\n",
              "      <td>...</td>\n",
              "      <td>...</td>\n",
              "      <td>...</td>\n",
              "    </tr>\n",
              "    <tr>\n",
              "      <th>708</th>\n",
              "      <td>tt0486674</td>\n",
              "      <td>25000000</td>\n",
              "      <td>6673422</td>\n",
              "      <td>-18326578</td>\n",
              "      <td>What Just Happened</td>\n",
              "      <td>18</td>\n",
              "      <td>Bruce Willis|Robert De Niro|Sean Penn|Robin Wr...</td>\n",
              "      <td>Barry Levinson</td>\n",
              "      <td>Admit nothing.</td>\n",
              "      <td>During the course of an ordinary week in Holly...</td>\n",
              "      <td>479</td>\n",
              "      <td>104</td>\n",
              "      <td>Comedy|Drama</td>\n",
              "      <td>2929 Productions|Linson Entertainment|Art Lins...</td>\n",
              "      <td>2008-10-17</td>\n",
              "      <td>October</td>\n",
              "      <td>5.1</td>\n",
              "      <td>2008</td>\n",
              "    </tr>\n",
              "    <tr>\n",
              "      <th>673</th>\n",
              "      <td>tt0800241</td>\n",
              "      <td>15000000</td>\n",
              "      <td>5926410</td>\n",
              "      <td>-9073590</td>\n",
              "      <td>Transsiberian</td>\n",
              "      <td>13</td>\n",
              "      <td>Woody Harrelson|Emily Mortimer|Kate Mara|Eduar...</td>\n",
              "      <td>Brad Anderson</td>\n",
              "      <td>You can't escape your lies.</td>\n",
              "      <td>A Trans-Siberian train journey from China to M...</td>\n",
              "      <td>175</td>\n",
              "      <td>111</td>\n",
              "      <td>Thriller|Crime|Mystery</td>\n",
              "      <td>Lietuvos Kinostudija|Scout Productions|Telecin...</td>\n",
              "      <td>2008-01-18</td>\n",
              "      <td>January</td>\n",
              "      <td>6.3</td>\n",
              "      <td>2008</td>\n",
              "    </tr>\n",
              "    <tr>\n",
              "      <th>702</th>\n",
              "      <td>tt0844286</td>\n",
              "      <td>20000000</td>\n",
              "      <td>5530764</td>\n",
              "      <td>-14469236</td>\n",
              "      <td>The Brothers Bloom</td>\n",
              "      <td>18</td>\n",
              "      <td>Rachel Weisz|Adrien Brody|Mark Ruffalo|Rinko K...</td>\n",
              "      <td>Rian Johnson</td>\n",
              "      <td>They'd never let the truth come between them.</td>\n",
              "      <td>The Brothers Bloom are the best con men in the...</td>\n",
              "      <td>290</td>\n",
              "      <td>114</td>\n",
              "      <td>Adventure|Comedy|Drama|Romance</td>\n",
              "      <td>The Weinstein Company|Summit Entertainment|End...</td>\n",
              "      <td>2008-09-09</td>\n",
              "      <td>September</td>\n",
              "      <td>6.8</td>\n",
              "      <td>2008</td>\n",
              "    </tr>\n",
              "    <tr>\n",
              "      <th>711</th>\n",
              "      <td>tt0805570</td>\n",
              "      <td>15000000</td>\n",
              "      <td>3533227</td>\n",
              "      <td>-11466773</td>\n",
              "      <td>The Midnight Meat Train</td>\n",
              "      <td>23</td>\n",
              "      <td>Bradley Cooper|Vinnie Jones|Brooke Shields|Les...</td>\n",
              "      <td>RyÃ»hei Kitamura</td>\n",
              "      <td>The most terrifying ride you'll ever take</td>\n",
              "      <td>The photographer Leon lives with his girlfrien...</td>\n",
              "      <td>1000</td>\n",
              "      <td>98</td>\n",
              "      <td>Mystery|Drama|Crime|Thriller|Horror</td>\n",
              "      <td>Lions Gate Films|Lakeshore Entertainment|Green...</td>\n",
              "      <td>2008-08-07</td>\n",
              "      <td>August</td>\n",
              "      <td>5.7</td>\n",
              "      <td>2008</td>\n",
              "    </tr>\n",
              "    <tr>\n",
              "      <th>712</th>\n",
              "      <td>tt0490181</td>\n",
              "      <td>8000000</td>\n",
              "      <td>2033165</td>\n",
              "      <td>-5966835</td>\n",
              "      <td>Mutant Chronicles</td>\n",
              "      <td>17</td>\n",
              "      <td>Ron Perlman|Thomas Jane|Devon Aoki|Sean Pertwe...</td>\n",
              "      <td>Simon Hunter</td>\n",
              "      <td>Welcome to the 23rd century.  The new dark ages.</td>\n",
              "      <td>It's the year 2707. Earth's natural resources ...</td>\n",
              "      <td>390</td>\n",
              "      <td>111</td>\n",
              "      <td>Action|Adventure|Horror|Science Fiction</td>\n",
              "      <td>Isle of Man Film|Edward R. Pressman Film|Parad...</td>\n",
              "      <td>2008-08-07</td>\n",
              "      <td>August</td>\n",
              "      <td>5.1</td>\n",
              "      <td>2008</td>\n",
              "    </tr>\n",
              "  </tbody>\n",
              "</table>\n",
              "<p>121 rows × 18 columns</p>\n",
              "</div>"
            ],
            "text/plain": [
              "       imdb_id     budget     revenue  ...      month vote_average  release_year\n",
              "599  tt0468569  185000000  1001921825  ...       July          8.1          2008\n",
              "603  tt0367882  185000000   786636033  ...        May          5.6          2008\n",
              "606  tt0441773  130000000   631744560  ...       June          6.8          2008\n",
              "621  tt0448157  150000000   624029371  ...       July          6.0          2008\n",
              "607  tt0795421   52000000   609841637  ...       June          6.2          2008\n",
              "..         ...        ...         ...  ...        ...          ...           ...\n",
              "708  tt0486674   25000000     6673422  ...    October          5.1          2008\n",
              "673  tt0800241   15000000     5926410  ...    January          6.3          2008\n",
              "702  tt0844286   20000000     5530764  ...  September          6.8          2008\n",
              "711  tt0805570   15000000     3533227  ...     August          5.7          2008\n",
              "712  tt0490181    8000000     2033165  ...     August          5.1          2008\n",
              "\n",
              "[121 rows x 18 columns]"
            ]
          },
          "metadata": {
            "tags": []
          }
        }
      ]
    },
    {
      "cell_type": "markdown",
      "metadata": {
        "id": "Zi4hDKidVp_F"
      },
      "source": [
        "# 10. Самый убыточный фильм за период с 2012 по 2014 г. (включительно)?\n"
      ]
    },
    {
      "cell_type": "code",
      "metadata": {
        "id": "XqyRmufJVp_F",
        "colab": {
          "base_uri": "https://localhost:8080/",
          "height": 1000
        },
        "outputId": "aef281cc-fc4b-4087-bd74-bfee5e40dfce"
      },
      "source": [
        "answers['10'] = '10. The Lone Ranger (tt1210819)'\r\n",
        "display(data[(data.release_year >= 2012) & (data.release_year <= 2014)].sort_values(by=['profit']))"
      ],
      "execution_count": 334,
      "outputs": [
        {
          "output_type": "display_data",
          "data": {
            "text/html": [
              "<div>\n",
              "<style scoped>\n",
              "    .dataframe tbody tr th:only-of-type {\n",
              "        vertical-align: middle;\n",
              "    }\n",
              "\n",
              "    .dataframe tbody tr th {\n",
              "        vertical-align: top;\n",
              "    }\n",
              "\n",
              "    .dataframe thead th {\n",
              "        text-align: right;\n",
              "    }\n",
              "</style>\n",
              "<table border=\"1\" class=\"dataframe\">\n",
              "  <thead>\n",
              "    <tr style=\"text-align: right;\">\n",
              "      <th></th>\n",
              "      <th>imdb_id</th>\n",
              "      <th>budget</th>\n",
              "      <th>revenue</th>\n",
              "      <th>profit</th>\n",
              "      <th>original_title</th>\n",
              "      <th>title_length</th>\n",
              "      <th>cast</th>\n",
              "      <th>director</th>\n",
              "      <th>tagline</th>\n",
              "      <th>overview</th>\n",
              "      <th>overview_length</th>\n",
              "      <th>runtime</th>\n",
              "      <th>genres</th>\n",
              "      <th>production_companies</th>\n",
              "      <th>release_date</th>\n",
              "      <th>month</th>\n",
              "      <th>vote_average</th>\n",
              "      <th>release_year</th>\n",
              "    </tr>\n",
              "  </thead>\n",
              "  <tbody>\n",
              "    <tr>\n",
              "      <th>1245</th>\n",
              "      <td>tt1210819</td>\n",
              "      <td>255000000</td>\n",
              "      <td>89289910</td>\n",
              "      <td>-165710090</td>\n",
              "      <td>The Lone Ranger</td>\n",
              "      <td>15</td>\n",
              "      <td>Johnny Depp|Armie Hammer|William Fichtner|Hele...</td>\n",
              "      <td>Gore Verbinski</td>\n",
              "      <td>Never Take Off the Mask</td>\n",
              "      <td>The Texas Rangers chase down a gang of outlaws...</td>\n",
              "      <td>386</td>\n",
              "      <td>149</td>\n",
              "      <td>Action|Adventure|Western</td>\n",
              "      <td>Walt Disney Pictures|Jerry Bruckheimer Films|I...</td>\n",
              "      <td>2013-07-03</td>\n",
              "      <td>July</td>\n",
              "      <td>6.0</td>\n",
              "      <td>2013</td>\n",
              "    </tr>\n",
              "    <tr>\n",
              "      <th>1214</th>\n",
              "      <td>tt0790736</td>\n",
              "      <td>130000000</td>\n",
              "      <td>61648500</td>\n",
              "      <td>-68351500</td>\n",
              "      <td>R.I.P.D.</td>\n",
              "      <td>8</td>\n",
              "      <td>Jeff Bridges|Ryan Reynolds|Kevin Bacon|Stephan...</td>\n",
              "      <td>Robert Schwentke</td>\n",
              "      <td>To protect and serve the living</td>\n",
              "      <td>A recently slain cop joins a team of undead po...</td>\n",
              "      <td>183</td>\n",
              "      <td>96</td>\n",
              "      <td>Fantasy|Action|Comedy|Crime</td>\n",
              "      <td>Universal Pictures|Original Film|Dark Horse En...</td>\n",
              "      <td>2013-07-18</td>\n",
              "      <td>July</td>\n",
              "      <td>5.3</td>\n",
              "      <td>2013</td>\n",
              "    </tr>\n",
              "    <tr>\n",
              "      <th>1007</th>\n",
              "      <td>tt1374992</td>\n",
              "      <td>60000000</td>\n",
              "      <td>8106475</td>\n",
              "      <td>-51893525</td>\n",
              "      <td>Upside Down</td>\n",
              "      <td>11</td>\n",
              "      <td>Kirsten Dunst|Jim Sturgess|Timothy Spall|James...</td>\n",
              "      <td>Juan Diego Solanas</td>\n",
              "      <td>Two worlds. One future.</td>\n",
              "      <td>In an alternate universe where twinned worlds ...</td>\n",
              "      <td>311</td>\n",
              "      <td>104</td>\n",
              "      <td>Romance|Science Fiction|Drama|Fantasy</td>\n",
              "      <td>Onyx Films|Studio 37|Jouror Productions|France...</td>\n",
              "      <td>2012-09-27</td>\n",
              "      <td>September</td>\n",
              "      <td>6.1</td>\n",
              "      <td>2012</td>\n",
              "    </tr>\n",
              "    <tr>\n",
              "      <th>1302</th>\n",
              "      <td>tt0884726</td>\n",
              "      <td>70000000</td>\n",
              "      <td>18662027</td>\n",
              "      <td>-51337973</td>\n",
              "      <td>Legends of Oz: Dorothy's Return</td>\n",
              "      <td>31</td>\n",
              "      <td>Lea Michele|Dan Aykroyd|Patrick Stewart|Hugh D...</td>\n",
              "      <td>Dan St. Pierre</td>\n",
              "      <td>There's trouble in OZ...</td>\n",
              "      <td>Dorothy wakes up in post-tornado Kansas, only ...</td>\n",
              "      <td>384</td>\n",
              "      <td>88</td>\n",
              "      <td>Animation|Music|Family</td>\n",
              "      <td>Prana Animation Studios|Summertime Entertainment</td>\n",
              "      <td>2013-06-13</td>\n",
              "      <td>June</td>\n",
              "      <td>6.1</td>\n",
              "      <td>2013</td>\n",
              "    </tr>\n",
              "    <tr>\n",
              "      <th>1235</th>\n",
              "      <td>tt1308729</td>\n",
              "      <td>55000000</td>\n",
              "      <td>9489829</td>\n",
              "      <td>-45510171</td>\n",
              "      <td>Bullet to the Head</td>\n",
              "      <td>18</td>\n",
              "      <td>Sylvester Stallone|Sung Kang|Sarah Shahi|Adewa...</td>\n",
              "      <td>Walter Hill</td>\n",
              "      <td>Revenge Never Gets Old.</td>\n",
              "      <td>After watching their respective partners die, ...</td>\n",
              "      <td>124</td>\n",
              "      <td>92</td>\n",
              "      <td>Action|Crime|Thriller</td>\n",
              "      <td>Dark Castle Entertainment|After Dark Films|IM ...</td>\n",
              "      <td>2013-01-31</td>\n",
              "      <td>January</td>\n",
              "      <td>5.2</td>\n",
              "      <td>2013</td>\n",
              "    </tr>\n",
              "    <tr>\n",
              "      <th>...</th>\n",
              "      <td>...</td>\n",
              "      <td>...</td>\n",
              "      <td>...</td>\n",
              "      <td>...</td>\n",
              "      <td>...</td>\n",
              "      <td>...</td>\n",
              "      <td>...</td>\n",
              "      <td>...</td>\n",
              "      <td>...</td>\n",
              "      <td>...</td>\n",
              "      <td>...</td>\n",
              "      <td>...</td>\n",
              "      <td>...</td>\n",
              "      <td>...</td>\n",
              "      <td>...</td>\n",
              "      <td>...</td>\n",
              "      <td>...</td>\n",
              "      <td>...</td>\n",
              "    </tr>\n",
              "    <tr>\n",
              "      <th>1189</th>\n",
              "      <td>tt1690953</td>\n",
              "      <td>76000000</td>\n",
              "      <td>970761885</td>\n",
              "      <td>894761885</td>\n",
              "      <td>Despicable Me 2</td>\n",
              "      <td>15</td>\n",
              "      <td>Steve Carell|Kristen Wiig|Benjamin Bratt|Miran...</td>\n",
              "      <td>Pierre Coffin|Chris Renaud</td>\n",
              "      <td>Back 2 Work</td>\n",
              "      <td>Gru is recruited by the Anti-Villain League to...</td>\n",
              "      <td>92</td>\n",
              "      <td>98</td>\n",
              "      <td>Animation|Comedy|Family</td>\n",
              "      <td>Universal Pictures|Illumination Entertainment</td>\n",
              "      <td>2013-06-25</td>\n",
              "      <td>June</td>\n",
              "      <td>7.0</td>\n",
              "      <td>2013</td>\n",
              "    </tr>\n",
              "    <tr>\n",
              "      <th>974</th>\n",
              "      <td>tt1074638</td>\n",
              "      <td>200000000</td>\n",
              "      <td>1108561013</td>\n",
              "      <td>908561013</td>\n",
              "      <td>Skyfall</td>\n",
              "      <td>7</td>\n",
              "      <td>Daniel Craig|Judi Dench|Javier Bardem|Ralph Fi...</td>\n",
              "      <td>Sam Mendes</td>\n",
              "      <td>Think on your sins.</td>\n",
              "      <td>When Bond's latest assignment goes gravely wro...</td>\n",
              "      <td>544</td>\n",
              "      <td>143</td>\n",
              "      <td>Action|Adventure|Thriller</td>\n",
              "      <td>Columbia Pictures</td>\n",
              "      <td>2012-10-25</td>\n",
              "      <td>October</td>\n",
              "      <td>6.8</td>\n",
              "      <td>2012</td>\n",
              "    </tr>\n",
              "    <tr>\n",
              "      <th>1180</th>\n",
              "      <td>tt1300854</td>\n",
              "      <td>200000000</td>\n",
              "      <td>1215439994</td>\n",
              "      <td>1015439994</td>\n",
              "      <td>Iron Man 3</td>\n",
              "      <td>10</td>\n",
              "      <td>Robert Downey Jr.|Gwyneth Paltrow|Guy Pearce|D...</td>\n",
              "      <td>Shane Black</td>\n",
              "      <td>Unleash the power behind the armor.</td>\n",
              "      <td>When Tony Stark's world is torn apart by a for...</td>\n",
              "      <td>136</td>\n",
              "      <td>130</td>\n",
              "      <td>Action|Adventure|Science Fiction</td>\n",
              "      <td>Marvel Studios</td>\n",
              "      <td>2013-04-18</td>\n",
              "      <td>April</td>\n",
              "      <td>6.9</td>\n",
              "      <td>2013</td>\n",
              "    </tr>\n",
              "    <tr>\n",
              "      <th>1177</th>\n",
              "      <td>tt2294629</td>\n",
              "      <td>150000000</td>\n",
              "      <td>1274219009</td>\n",
              "      <td>1124219009</td>\n",
              "      <td>Frozen</td>\n",
              "      <td>6</td>\n",
              "      <td>Kristen Bell|Idina Menzel|Jonathan Groff|Josh ...</td>\n",
              "      <td>Chris Buck|Jennifer Lee</td>\n",
              "      <td>Only the act of true love will thaw a frozen h...</td>\n",
              "      <td>Young princess Anna of Arendelle dreams about ...</td>\n",
              "      <td>397</td>\n",
              "      <td>102</td>\n",
              "      <td>Animation|Adventure|Family</td>\n",
              "      <td>Walt Disney Pictures|Walt Disney Animation Stu...</td>\n",
              "      <td>2013-11-27</td>\n",
              "      <td>November</td>\n",
              "      <td>7.5</td>\n",
              "      <td>2013</td>\n",
              "    </tr>\n",
              "    <tr>\n",
              "      <th>970</th>\n",
              "      <td>tt0848228</td>\n",
              "      <td>220000000</td>\n",
              "      <td>1519557910</td>\n",
              "      <td>1299557910</td>\n",
              "      <td>The Avengers</td>\n",
              "      <td>12</td>\n",
              "      <td>Robert Downey Jr.|Chris Evans|Mark Ruffalo|Chr...</td>\n",
              "      <td>Joss Whedon</td>\n",
              "      <td>Some assembly required.</td>\n",
              "      <td>When an unexpected enemy emerges and threatens...</td>\n",
              "      <td>297</td>\n",
              "      <td>143</td>\n",
              "      <td>Science Fiction|Action|Adventure</td>\n",
              "      <td>Marvel Studios</td>\n",
              "      <td>2012-04-25</td>\n",
              "      <td>April</td>\n",
              "      <td>7.3</td>\n",
              "      <td>2012</td>\n",
              "    </tr>\n",
              "  </tbody>\n",
              "</table>\n",
              "<p>367 rows × 18 columns</p>\n",
              "</div>"
            ],
            "text/plain": [
              "        imdb_id     budget     revenue  ...      month vote_average  release_year\n",
              "1245  tt1210819  255000000    89289910  ...       July          6.0          2013\n",
              "1214  tt0790736  130000000    61648500  ...       July          5.3          2013\n",
              "1007  tt1374992   60000000     8106475  ...  September          6.1          2012\n",
              "1302  tt0884726   70000000    18662027  ...       June          6.1          2013\n",
              "1235  tt1308729   55000000     9489829  ...    January          5.2          2013\n",
              "...         ...        ...         ...  ...        ...          ...           ...\n",
              "1189  tt1690953   76000000   970761885  ...       June          7.0          2013\n",
              "974   tt1074638  200000000  1108561013  ...    October          6.8          2012\n",
              "1180  tt1300854  200000000  1215439994  ...      April          6.9          2013\n",
              "1177  tt2294629  150000000  1274219009  ...   November          7.5          2013\n",
              "970   tt0848228  220000000  1519557910  ...      April          7.3          2012\n",
              "\n",
              "[367 rows x 18 columns]"
            ]
          },
          "metadata": {
            "tags": []
          }
        }
      ]
    },
    {
      "cell_type": "markdown",
      "metadata": {
        "id": "EA7Sa9dkVp_I"
      },
      "source": [
        "# 11. Какого жанра фильмов больше всего?"
      ]
    },
    {
      "cell_type": "code",
      "metadata": {
        "id": "zsJAwJ8QVp_J",
        "colab": {
          "base_uri": "https://localhost:8080/",
          "height": 639
        },
        "outputId": "8a2a2d9d-cb78-4a60-9244-c9337518769d"
      },
      "source": [
        "# эту задачу тоже можно решать разными подходами, попробуй реализовать разные варианты\n",
        "# если будешь добавлять функцию - выноси ее в предобработку что в начале\n",
        "answers['11'] = '11. Drama'\n",
        "display(dataExploded.groupby('genres')[['imdb_id']].agg(countById).sort_values(by='imdb_id', ascending=False))"
      ],
      "execution_count": 335,
      "outputs": [
        {
          "output_type": "display_data",
          "data": {
            "text/html": [
              "<div>\n",
              "<style scoped>\n",
              "    .dataframe tbody tr th:only-of-type {\n",
              "        vertical-align: middle;\n",
              "    }\n",
              "\n",
              "    .dataframe tbody tr th {\n",
              "        vertical-align: top;\n",
              "    }\n",
              "\n",
              "    .dataframe thead th {\n",
              "        text-align: right;\n",
              "    }\n",
              "</style>\n",
              "<table border=\"1\" class=\"dataframe\">\n",
              "  <thead>\n",
              "    <tr style=\"text-align: right;\">\n",
              "      <th></th>\n",
              "      <th>imdb_id</th>\n",
              "    </tr>\n",
              "    <tr>\n",
              "      <th>genres</th>\n",
              "      <th></th>\n",
              "    </tr>\n",
              "  </thead>\n",
              "  <tbody>\n",
              "    <tr>\n",
              "      <th>Drama</th>\n",
              "      <td>782</td>\n",
              "    </tr>\n",
              "    <tr>\n",
              "      <th>Comedy</th>\n",
              "      <td>683</td>\n",
              "    </tr>\n",
              "    <tr>\n",
              "      <th>Thriller</th>\n",
              "      <td>596</td>\n",
              "    </tr>\n",
              "    <tr>\n",
              "      <th>Action</th>\n",
              "      <td>582</td>\n",
              "    </tr>\n",
              "    <tr>\n",
              "      <th>Adventure</th>\n",
              "      <td>415</td>\n",
              "    </tr>\n",
              "    <tr>\n",
              "      <th>Crime</th>\n",
              "      <td>315</td>\n",
              "    </tr>\n",
              "    <tr>\n",
              "      <th>Romance</th>\n",
              "      <td>308</td>\n",
              "    </tr>\n",
              "    <tr>\n",
              "      <th>Family</th>\n",
              "      <td>260</td>\n",
              "    </tr>\n",
              "    <tr>\n",
              "      <th>Science Fiction</th>\n",
              "      <td>248</td>\n",
              "    </tr>\n",
              "    <tr>\n",
              "      <th>Fantasy</th>\n",
              "      <td>222</td>\n",
              "    </tr>\n",
              "    <tr>\n",
              "      <th>Horror</th>\n",
              "      <td>176</td>\n",
              "    </tr>\n",
              "    <tr>\n",
              "      <th>Mystery</th>\n",
              "      <td>168</td>\n",
              "    </tr>\n",
              "    <tr>\n",
              "      <th>Animation</th>\n",
              "      <td>139</td>\n",
              "    </tr>\n",
              "    <tr>\n",
              "      <th>Music</th>\n",
              "      <td>64</td>\n",
              "    </tr>\n",
              "    <tr>\n",
              "      <th>History</th>\n",
              "      <td>62</td>\n",
              "    </tr>\n",
              "    <tr>\n",
              "      <th>War</th>\n",
              "      <td>58</td>\n",
              "    </tr>\n",
              "    <tr>\n",
              "      <th>Western</th>\n",
              "      <td>19</td>\n",
              "    </tr>\n",
              "    <tr>\n",
              "      <th>Documentary</th>\n",
              "      <td>8</td>\n",
              "    </tr>\n",
              "    <tr>\n",
              "      <th>Foreign</th>\n",
              "      <td>2</td>\n",
              "    </tr>\n",
              "  </tbody>\n",
              "</table>\n",
              "</div>"
            ],
            "text/plain": [
              "                 imdb_id\n",
              "genres                  \n",
              "Drama                782\n",
              "Comedy               683\n",
              "Thriller             596\n",
              "Action               582\n",
              "Adventure            415\n",
              "Crime                315\n",
              "Romance              308\n",
              "Family               260\n",
              "Science Fiction      248\n",
              "Fantasy              222\n",
              "Horror               176\n",
              "Mystery              168\n",
              "Animation            139\n",
              "Music                 64\n",
              "History               62\n",
              "War                   58\n",
              "Western               19\n",
              "Documentary            8\n",
              "Foreign                2"
            ]
          },
          "metadata": {
            "tags": []
          }
        }
      ]
    },
    {
      "cell_type": "markdown",
      "metadata": {
        "id": "Ax6g2C8SVp_M"
      },
      "source": [
        "ВАРИАНТ 2"
      ]
    },
    {
      "cell_type": "markdown",
      "metadata": {
        "id": "T9_bPWpkVp_Q"
      },
      "source": [
        "# 12. Фильмы какого жанра чаще всего становятся прибыльными? "
      ]
    },
    {
      "cell_type": "code",
      "metadata": {
        "id": "Tmt8MaK1Vp_R",
        "colab": {
          "base_uri": "https://localhost:8080/",
          "height": 67
        },
        "outputId": "916b73c2-5090-4e8e-b479-2e84ae574a4a"
      },
      "source": [
        "answers['12'] = '12. Drama'\r\n",
        "\r\n",
        "profitable_films = dataExploded[dataExploded.profit > 0]\r\n",
        "res = profitable_films.groupby('genres')['imdb_id'].agg(lambda x : len(x.unique())).sort_values(ascending=False)[0:1]\r\n",
        "display(res)\r\n",
        "\r\n",
        "# code to find what genre brouht the most profit\r\n",
        "# pivot = dataExploded.pivot_table(values='profit', index='imdb_id', columns='genres', aggfunc = lambda x : x.unique().sum(), fill_value=0)\r\n",
        "# display(pivot.sum().sort_values(ascending=False)[0:1])"
      ],
      "execution_count": 336,
      "outputs": [
        {
          "output_type": "display_data",
          "data": {
            "text/plain": [
              "genres\n",
              "Drama    560\n",
              "Name: imdb_id, dtype: int64"
            ]
          },
          "metadata": {
            "tags": []
          }
        }
      ]
    },
    {
      "cell_type": "markdown",
      "metadata": {
        "id": "0F23bgsDVp_U"
      },
      "source": [
        "# 13. У какого режиссера самые большие суммарные кассовые сборы?"
      ]
    },
    {
      "cell_type": "code",
      "metadata": {
        "id": "K6Z3J8ygVp_X",
        "colab": {
          "base_uri": "https://localhost:8080/",
          "height": 67
        },
        "outputId": "8921407f-28ef-4ac9-e5f4-40220d41e5e1"
      },
      "source": [
        "answers['13'] = '13. Peter Jackson'\r\n",
        "\r\n",
        "pivot = dataExploded.pivot_table(values='revenue', index='imdb_id', columns='director', aggfunc = lambda x : x.unique().sum(), fill_value=0)\r\n",
        "display(pivot.sum().sort_values(ascending=False)[0:1])"
      ],
      "execution_count": 337,
      "outputs": [
        {
          "output_type": "display_data",
          "data": {
            "text/plain": [
              "director\n",
              "Peter Jackson    6490593685\n",
              "dtype: int64"
            ]
          },
          "metadata": {
            "tags": []
          }
        }
      ]
    },
    {
      "cell_type": "markdown",
      "metadata": {
        "id": "PsYC9FgRVp_a"
      },
      "source": [
        "# 14. Какой режисер снял больше всего фильмов в стиле Action?"
      ]
    },
    {
      "cell_type": "code",
      "metadata": {
        "id": "wd2M-wHeVp_b",
        "colab": {
          "base_uri": "https://localhost:8080/",
          "height": 35
        },
        "outputId": "2ec1c3c1-d4bb-49a6-82cd-9144d94894f3"
      },
      "source": [
        "answers['14'] = '14. Robert Rodriguez'\r\n",
        "\r\n",
        "pivot = dataExploded.pivot_table(values='imdb_id', index='genres', columns='director', aggfunc=lambda x: len(x.unique()), fill_value=0)\r\n",
        "display(pivot.loc['Action'].idxmax())"
      ],
      "execution_count": 338,
      "outputs": [
        {
          "output_type": "display_data",
          "data": {
            "application/vnd.google.colaboratory.intrinsic+json": {
              "type": "string"
            },
            "text/plain": [
              "'Robert Rodriguez'"
            ]
          },
          "metadata": {
            "tags": []
          }
        }
      ]
    },
    {
      "cell_type": "markdown",
      "metadata": {
        "id": "PQ0KciD7Vp_f"
      },
      "source": [
        "# 15. Фильмы с каким актером принесли самые высокие кассовые сборы в 2012 году? "
      ]
    },
    {
      "cell_type": "code",
      "metadata": {
        "id": "aga62oeKVp_g",
        "colab": {
          "base_uri": "https://localhost:8080/",
          "height": 35
        },
        "outputId": "3965c87a-a3ba-49ac-ab9c-22d0974c7b66"
      },
      "source": [
        "answers['15'] = '15. Chris Hemsworth'\r\n",
        "\r\n",
        "spec_year = dataExploded[dataExploded.release_year == 2012]\r\n",
        "res = spec_year.groupby('cast')[['revenue']].agg(lambda x: sum(x.unique()))\r\n",
        "display(res.revenue.idxmax())"
      ],
      "execution_count": 339,
      "outputs": [
        {
          "output_type": "display_data",
          "data": {
            "application/vnd.google.colaboratory.intrinsic+json": {
              "type": "string"
            },
            "text/plain": [
              "'Chris Hemsworth'"
            ]
          },
          "metadata": {
            "tags": []
          }
        }
      ]
    },
    {
      "cell_type": "markdown",
      "metadata": {
        "id": "mWHyyL7QVp_j"
      },
      "source": [
        "# 16. Какой актер снялся в большем количестве высокобюджетных фильмов?"
      ]
    },
    {
      "cell_type": "code",
      "metadata": {
        "id": "qQtmHKTFVp_k",
        "colab": {
          "base_uri": "https://localhost:8080/",
          "height": 35
        },
        "outputId": "7df9e4db-69d2-411f-ab56-ff804d904e66"
      },
      "source": [
        "answers['16'] = '16. Tom Cruise'\r\n",
        "\r\n",
        "mean_value = data.revenue.mean()\r\n",
        "expensive_films = dataExploded[dataExploded.profit > mean_value]\r\n",
        "res = expensive_films.groupby('cast')['imdb_id'].agg(lambda x: len(x.unique()))\r\n",
        "display(res.idxmax())"
      ],
      "execution_count": 340,
      "outputs": [
        {
          "output_type": "display_data",
          "data": {
            "application/vnd.google.colaboratory.intrinsic+json": {
              "type": "string"
            },
            "text/plain": [
              "'Tom Cruise'"
            ]
          },
          "metadata": {
            "tags": []
          }
        }
      ]
    },
    {
      "cell_type": "markdown",
      "metadata": {
        "id": "NIh6AaW5Vp_n"
      },
      "source": [
        "# 17. В фильмах какого жанра больше всего снимался Nicolas Cage? "
      ]
    },
    {
      "cell_type": "code",
      "metadata": {
        "id": "H74SJDIBVp_n",
        "colab": {
          "base_uri": "https://localhost:8080/",
          "height": 35
        },
        "outputId": "b7b9bd4c-e7fa-472b-e720-1882fb798f4d"
      },
      "source": [
        "answers['17'] = 'Action'\r\n",
        "\r\n",
        "pivot = dataExploded.pivot_table(index=\"cast\", columns='genres', values='imdb_id', aggfunc=lambda x: len(x.unique()), fill_value=0)\r\n",
        "display(pivot.loc['Nicolas Cage'].idxmax())"
      ],
      "execution_count": 341,
      "outputs": [
        {
          "output_type": "display_data",
          "data": {
            "application/vnd.google.colaboratory.intrinsic+json": {
              "type": "string"
            },
            "text/plain": [
              "'Action'"
            ]
          },
          "metadata": {
            "tags": []
          }
        }
      ]
    },
    {
      "cell_type": "markdown",
      "metadata": {
        "id": "RqOmPRfWVp_q"
      },
      "source": [
        "# 18. Самый убыточный фильм от Paramount Pictures"
      ]
    },
    {
      "cell_type": "code",
      "metadata": {
        "id": "9E_B0Y96Vp_r",
        "colab": {
          "base_uri": "https://localhost:8080/",
          "height": 67
        },
        "outputId": "405ccbec-a3b6-4860-a693-d1f87d7cc5f0"
      },
      "source": [
        "answers['18'] = '18. K-19: The Widowmaker (tt0267626)'\r\n",
        "\r\n",
        "res = data[data.production_companies.str.contains('Paramount Pictures')].profit.idxmin()\r\n",
        "display(data.loc[res][['imdb_id', 'original_title']])"
      ],
      "execution_count": 342,
      "outputs": [
        {
          "output_type": "display_data",
          "data": {
            "text/plain": [
              "imdb_id                      tt0267626\n",
              "original_title    K-19: The Widowmaker\n",
              "Name: 925, dtype: object"
            ]
          },
          "metadata": {
            "tags": []
          }
        }
      ]
    },
    {
      "cell_type": "markdown",
      "metadata": {
        "id": "vS8Ur6ddVp_u"
      },
      "source": [
        "# 19. Какой год стал самым успешным по суммарным кассовым сборам?"
      ]
    },
    {
      "cell_type": "code",
      "metadata": {
        "id": "Dnbt4GdIVp_v",
        "colab": {
          "base_uri": "https://localhost:8080/"
        },
        "outputId": "596574e0-8fe6-4633-d5c9-96aee6af5b17"
      },
      "source": [
        "answers['19'] = '19. 2015'\r\n",
        "data.groupby('release_year').revenue.sum().sort_values(ascending=False)"
      ],
      "execution_count": 343,
      "outputs": [
        {
          "output_type": "execute_result",
          "data": {
            "text/plain": [
              "release_year\n",
              "2015    25449202382\n",
              "2014    23405862953\n",
              "2013    23213799791\n",
              "2012    23079001687\n",
              "2011    22676791872\n",
              "2010    21071204961\n",
              "2009    20261791024\n",
              "2008    18252781990\n",
              "2007    18162406801\n",
              "2004    15663430720\n",
              "2005    15309425558\n",
              "2006    14775042320\n",
              "2003    14346123312\n",
              "2002    14136361487\n",
              "2001    13017764865\n",
              "2000    10664099805\n",
              "Name: revenue, dtype: int64"
            ]
          },
          "metadata": {
            "tags": []
          },
          "execution_count": 343
        }
      ]
    },
    {
      "cell_type": "markdown",
      "metadata": {
        "id": "JAzJh4QAVp_z"
      },
      "source": [
        "# 20. Какой самый прибыльный год для студии Warner Bros?"
      ]
    },
    {
      "cell_type": "code",
      "metadata": {
        "id": "wgVu02DEVp_0",
        "colab": {
          "base_uri": "https://localhost:8080/"
        },
        "outputId": "e5bf5c1e-6540-4cff-95f4-d4123e77cdde"
      },
      "source": [
        "answers['20'] = '20. 2014'\r\n",
        "\r\n",
        "warner = data[data.production_companies.str.contains('Warner Bros')]\r\n",
        "warner.groupby('release_year').revenue.sum().sort_values(ascending=False)"
      ],
      "execution_count": 344,
      "outputs": [
        {
          "output_type": "execute_result",
          "data": {
            "text/plain": [
              "release_year\n",
              "2014    3243064519\n",
              "2007    3183675217\n",
              "2008    3050595031\n",
              "2010    3008712985\n",
              "2011    2845393682\n",
              "2003    2745493377\n",
              "2009    2737954136\n",
              "2004    2731933725\n",
              "2013    2599953400\n",
              "2005    2412980298\n",
              "2001    2266545668\n",
              "2012    1869520056\n",
              "2002    1702709901\n",
              "2015    1691168351\n",
              "2006    1521170743\n",
              "2000    1025531386\n",
              "Name: revenue, dtype: int64"
            ]
          },
          "metadata": {
            "tags": []
          },
          "execution_count": 344
        }
      ]
    },
    {
      "cell_type": "markdown",
      "metadata": {
        "id": "8Im1S2HRVp_4"
      },
      "source": [
        "# 21. В каком месяце за все годы суммарно вышло больше всего фильмов?"
      ]
    },
    {
      "cell_type": "code",
      "metadata": {
        "id": "lev6TH7gVp_4",
        "colab": {
          "base_uri": "https://localhost:8080/",
          "height": 35
        },
        "outputId": "f54ba0fc-1b39-4474-b469-e2fb982a9336"
      },
      "source": [
        "answers['21'] = '21. September'\r\n",
        "\r\n",
        "res = data.groupby('month')['imdb_id'].count()\r\n",
        "display(res.idxmax())\r\n"
      ],
      "execution_count": 345,
      "outputs": [
        {
          "output_type": "display_data",
          "data": {
            "application/vnd.google.colaboratory.intrinsic+json": {
              "type": "string"
            },
            "text/plain": [
              "'September'"
            ]
          },
          "metadata": {
            "tags": []
          }
        }
      ]
    },
    {
      "cell_type": "markdown",
      "metadata": {
        "id": "uAJsZ_NeVp_7"
      },
      "source": [
        "# 22. Сколько суммарно вышло фильмов летом? (за июнь, июль, август)"
      ]
    },
    {
      "cell_type": "code",
      "metadata": {
        "id": "Aa-hEREoVp_8",
        "colab": {
          "base_uri": "https://localhost:8080/",
          "height": 34
        },
        "outputId": "fa24b361-f42e-4a2d-833a-d8a9718ede68"
      },
      "source": [
        "answers['22'] = '22. 450'\r\n",
        "\r\n",
        "summer_films = data[(data.month.str.contains('June')) | (data.month.str.contains('July')) | (data.month.str.contains('August'))]\r\n",
        "display(summer_films.imdb_id.count())"
      ],
      "execution_count": 346,
      "outputs": [
        {
          "output_type": "display_data",
          "data": {
            "text/plain": [
              "450"
            ]
          },
          "metadata": {
            "tags": []
          }
        }
      ]
    },
    {
      "cell_type": "markdown",
      "metadata": {
        "id": "G94ppOY1VqAA"
      },
      "source": [
        "# 23. Для какого режиссера зима – самое продуктивное время года? "
      ]
    },
    {
      "cell_type": "code",
      "metadata": {
        "id": "RhNTsamuVqAB",
        "colab": {
          "base_uri": "https://localhost:8080/",
          "height": 35
        },
        "outputId": "f77d4dc1-a251-41fd-8c5c-055bcef9afc4"
      },
      "source": [
        "answers['23'] = '23. Peter Jackson'\r\n",
        "\r\n",
        "winter_films = data[(data.month.str.contains('December')) | (data.month.str.contains('January')) | (data.month.str.contains('February'))]\r\n",
        "display(winter_films.groupby('director').imdb_id.count().idxmax())"
      ],
      "execution_count": 347,
      "outputs": [
        {
          "output_type": "display_data",
          "data": {
            "application/vnd.google.colaboratory.intrinsic+json": {
              "type": "string"
            },
            "text/plain": [
              "'Peter Jackson'"
            ]
          },
          "metadata": {
            "tags": []
          }
        }
      ]
    },
    {
      "cell_type": "markdown",
      "metadata": {
        "id": "RBo0JVjVVqAF"
      },
      "source": [
        "# 24. Какая студия дает самые длинные названия своим фильмам по количеству символов?"
      ]
    },
    {
      "cell_type": "code",
      "metadata": {
        "id": "QRGS8L0iVqAG",
        "colab": {
          "base_uri": "https://localhost:8080/",
          "height": 35
        },
        "outputId": "4abb54b1-b381-43fa-f319-49112075576f"
      },
      "source": [
        "answers['24'] = '24. Four By Two Productions'\r\n",
        "\r\n",
        "def my_mean(x):\r\n",
        "  un = x.unique()\r\n",
        "  return sum(un) / len(un)\r\n",
        "\r\n",
        "\r\n",
        "res = dataExploded.groupby('production_companies')[['title_length']].agg(my_mean)\r\n",
        "display(res.title_length.idxmax())"
      ],
      "execution_count": 348,
      "outputs": [
        {
          "output_type": "display_data",
          "data": {
            "application/vnd.google.colaboratory.intrinsic+json": {
              "type": "string"
            },
            "text/plain": [
              "'Four By Two Productions'"
            ]
          },
          "metadata": {
            "tags": []
          }
        }
      ]
    },
    {
      "cell_type": "markdown",
      "metadata": {
        "id": "9G0hbvR7VqAK"
      },
      "source": [
        "# 25. Описание фильмов какой студии в среднем самые длинные по количеству слов?"
      ]
    },
    {
      "cell_type": "code",
      "metadata": {
        "id": "Ge2GsLNxVqAK",
        "colab": {
          "base_uri": "https://localhost:8080/",
          "height": 35
        },
        "outputId": "ac9bc39a-ac94-4192-b316-d9379f4db8c5"
      },
      "source": [
        "answers['25'] = '25. Midnight Picture Show'\r\n",
        "\r\n",
        "def my_mean(x):\r\n",
        "  un = x.unique()\r\n",
        "  return sum(un) / len(un)\r\n",
        "\r\n",
        "\r\n",
        "res = dataExploded.groupby('production_companies')[['overview_length']].agg(my_mean)\r\n",
        "display(res.overview_length.idxmax())"
      ],
      "execution_count": 349,
      "outputs": [
        {
          "output_type": "display_data",
          "data": {
            "application/vnd.google.colaboratory.intrinsic+json": {
              "type": "string"
            },
            "text/plain": [
              "'Midnight Picture Show'"
            ]
          },
          "metadata": {
            "tags": []
          }
        }
      ]
    },
    {
      "cell_type": "markdown",
      "metadata": {
        "id": "FJ1AFt90VqAP"
      },
      "source": [
        "# 26. Какие фильмы входят в 1 процент лучших по рейтингу? \n",
        "по vote_average"
      ]
    },
    {
      "cell_type": "code",
      "metadata": {
        "id": "8qmJVq4CVqAQ",
        "colab": {
          "base_uri": "https://localhost:8080/",
          "height": 1000
        },
        "outputId": "ee60ed2a-85d0-4e14-9e7e-2dd28748fcd3"
      },
      "source": [
        "total_count = data.imdb_id.count()\r\n",
        "one_percent = int(total_count / 100)\r\n",
        "res = data.sort_values(by='vote_average', ascending=False)\r\n",
        "film_names = []\r\n",
        "for index, row in res.iterrows():\r\n",
        "  film_names.append(row.original_title)\r\n",
        "\r\n",
        "answers['26'] = '26. ' + ', '.join(film_names)\r\n",
        "display(res)"
      ],
      "execution_count": 358,
      "outputs": [
        {
          "output_type": "display_data",
          "data": {
            "text/html": [
              "<div>\n",
              "<style scoped>\n",
              "    .dataframe tbody tr th:only-of-type {\n",
              "        vertical-align: middle;\n",
              "    }\n",
              "\n",
              "    .dataframe tbody tr th {\n",
              "        vertical-align: top;\n",
              "    }\n",
              "\n",
              "    .dataframe thead th {\n",
              "        text-align: right;\n",
              "    }\n",
              "</style>\n",
              "<table border=\"1\" class=\"dataframe\">\n",
              "  <thead>\n",
              "    <tr style=\"text-align: right;\">\n",
              "      <th></th>\n",
              "      <th>imdb_id</th>\n",
              "      <th>budget</th>\n",
              "      <th>revenue</th>\n",
              "      <th>profit</th>\n",
              "      <th>original_title</th>\n",
              "      <th>title_length</th>\n",
              "      <th>cast</th>\n",
              "      <th>director</th>\n",
              "      <th>tagline</th>\n",
              "      <th>overview</th>\n",
              "      <th>overview_length</th>\n",
              "      <th>runtime</th>\n",
              "      <th>genres</th>\n",
              "      <th>production_companies</th>\n",
              "      <th>release_date</th>\n",
              "      <th>month</th>\n",
              "      <th>vote_average</th>\n",
              "      <th>release_year</th>\n",
              "    </tr>\n",
              "  </thead>\n",
              "  <tbody>\n",
              "    <tr>\n",
              "      <th>599</th>\n",
              "      <td>tt0468569</td>\n",
              "      <td>185000000</td>\n",
              "      <td>1001921825</td>\n",
              "      <td>816921825</td>\n",
              "      <td>The Dark Knight</td>\n",
              "      <td>15</td>\n",
              "      <td>Christian Bale|Michael Caine|Heath Ledger|Aaro...</td>\n",
              "      <td>Christopher Nolan</td>\n",
              "      <td>Why So Serious?</td>\n",
              "      <td>Batman raises the stakes in his war on crime. ...</td>\n",
              "      <td>396</td>\n",
              "      <td>152</td>\n",
              "      <td>Drama|Action|Crime|Thriller</td>\n",
              "      <td>DC Comics|Legendary Pictures|Warner Bros.|Syncopy</td>\n",
              "      <td>2008-07-16</td>\n",
              "      <td>July</td>\n",
              "      <td>8.1</td>\n",
              "      <td>2008</td>\n",
              "    </tr>\n",
              "    <tr>\n",
              "      <th>118</th>\n",
              "      <td>tt0816692</td>\n",
              "      <td>165000000</td>\n",
              "      <td>621752480</td>\n",
              "      <td>456752480</td>\n",
              "      <td>Interstellar</td>\n",
              "      <td>12</td>\n",
              "      <td>Matthew McConaughey|Jessica Chastain|Anne Hath...</td>\n",
              "      <td>Christopher Nolan</td>\n",
              "      <td>Mankind was born on Earth. It was never meant ...</td>\n",
              "      <td>Interstellar chronicles the adventures of a gr...</td>\n",
              "      <td>222</td>\n",
              "      <td>169</td>\n",
              "      <td>Adventure|Drama|Science Fiction</td>\n",
              "      <td>Paramount Pictures|Legendary Pictures|Warner B...</td>\n",
              "      <td>2014-11-05</td>\n",
              "      <td>November</td>\n",
              "      <td>8.0</td>\n",
              "      <td>2014</td>\n",
              "    </tr>\n",
              "    <tr>\n",
              "      <th>125</th>\n",
              "      <td>tt2084970</td>\n",
              "      <td>14000000</td>\n",
              "      <td>233555708</td>\n",
              "      <td>219555708</td>\n",
              "      <td>The Imitation Game</td>\n",
              "      <td>18</td>\n",
              "      <td>Benedict Cumberbatch|Keira Knightley|Matthew G...</td>\n",
              "      <td>Morten Tyldum</td>\n",
              "      <td>The true enigma was the man who cracked the code.</td>\n",
              "      <td>Based on the real life story of legendary cryp...</td>\n",
              "      <td>287</td>\n",
              "      <td>113</td>\n",
              "      <td>History|Drama|Thriller|War</td>\n",
              "      <td>Black Bear Pictures|Bristol Automotive</td>\n",
              "      <td>2014-11-14</td>\n",
              "      <td>November</td>\n",
              "      <td>8.0</td>\n",
              "      <td>2014</td>\n",
              "    </tr>\n",
              "    <tr>\n",
              "      <th>9</th>\n",
              "      <td>tt2096673</td>\n",
              "      <td>175000000</td>\n",
              "      <td>853708609</td>\n",
              "      <td>678708609</td>\n",
              "      <td>Inside Out</td>\n",
              "      <td>10</td>\n",
              "      <td>Amy Poehler|Phyllis Smith|Richard Kind|Bill Ha...</td>\n",
              "      <td>Pete Docter</td>\n",
              "      <td>Meet the little voices inside your head.</td>\n",
              "      <td>Growing up can be a bumpy road, and it's no ex...</td>\n",
              "      <td>638</td>\n",
              "      <td>94</td>\n",
              "      <td>Comedy|Animation|Family</td>\n",
              "      <td>Walt Disney Pictures|Pixar Animation Studios|W...</td>\n",
              "      <td>2015-06-09</td>\n",
              "      <td>June</td>\n",
              "      <td>8.0</td>\n",
              "      <td>2015</td>\n",
              "    </tr>\n",
              "    <tr>\n",
              "      <th>34</th>\n",
              "      <td>tt3170832</td>\n",
              "      <td>6000000</td>\n",
              "      <td>35401758</td>\n",
              "      <td>29401758</td>\n",
              "      <td>Room</td>\n",
              "      <td>4</td>\n",
              "      <td>Brie Larson|Jacob Tremblay|Joan Allen|Sean Bri...</td>\n",
              "      <td>Lenny Abrahamson</td>\n",
              "      <td>Love knows no boundaries</td>\n",
              "      <td>Jack is a young boy of 5 years old who has liv...</td>\n",
              "      <td>243</td>\n",
              "      <td>117</td>\n",
              "      <td>Drama|Thriller</td>\n",
              "      <td>Element Pictures|No Trace Camping|A24|Duperele...</td>\n",
              "      <td>2015-10-16</td>\n",
              "      <td>October</td>\n",
              "      <td>8.0</td>\n",
              "      <td>2015</td>\n",
              "    </tr>\n",
              "    <tr>\n",
              "      <th>...</th>\n",
              "      <td>...</td>\n",
              "      <td>...</td>\n",
              "      <td>...</td>\n",
              "      <td>...</td>\n",
              "      <td>...</td>\n",
              "      <td>...</td>\n",
              "      <td>...</td>\n",
              "      <td>...</td>\n",
              "      <td>...</td>\n",
              "      <td>...</td>\n",
              "      <td>...</td>\n",
              "      <td>...</td>\n",
              "      <td>...</td>\n",
              "      <td>...</td>\n",
              "      <td>...</td>\n",
              "      <td>...</td>\n",
              "      <td>...</td>\n",
              "      <td>...</td>\n",
              "    </tr>\n",
              "    <tr>\n",
              "      <th>1424</th>\n",
              "      <td>tt0369226</td>\n",
              "      <td>20000000</td>\n",
              "      <td>10442808</td>\n",
              "      <td>-9557192</td>\n",
              "      <td>Alone in the Dark</td>\n",
              "      <td>17</td>\n",
              "      <td>Christian Slater|Tara Reid|Stephen Dorff|Frank...</td>\n",
              "      <td>Uwe Boll</td>\n",
              "      <td>Can mankind defeat the army of darkness unleas...</td>\n",
              "      <td>Edward Carnby is a private investigator specia...</td>\n",
              "      <td>314</td>\n",
              "      <td>96</td>\n",
              "      <td>Action|Fantasy|Horror|Thriller</td>\n",
              "      <td>Boll Kino Beteiligungs GmbH &amp; Co. KG|Brightlig...</td>\n",
              "      <td>2005-01-28</td>\n",
              "      <td>January</td>\n",
              "      <td>3.5</td>\n",
              "      <td>2005</td>\n",
              "    </tr>\n",
              "    <tr>\n",
              "      <th>1161</th>\n",
              "      <td>tt0317676</td>\n",
              "      <td>7000000</td>\n",
              "      <td>13818181</td>\n",
              "      <td>6818181</td>\n",
              "      <td>House of the Dead</td>\n",
              "      <td>17</td>\n",
              "      <td>Jonathan Cherry|Tyron Leitso|Clint Howard|Ona ...</td>\n",
              "      <td>Uwe Boll</td>\n",
              "      <td>You won't last the night.</td>\n",
              "      <td>Set on an island off the coast, a techno rave ...</td>\n",
              "      <td>375</td>\n",
              "      <td>90</td>\n",
              "      <td>Horror|Action|Thriller</td>\n",
              "      <td>Boll Kino Beteiligungs GmbH &amp; Co. KG|Brightlig...</td>\n",
              "      <td>2003-04-11</td>\n",
              "      <td>April</td>\n",
              "      <td>3.4</td>\n",
              "      <td>2003</td>\n",
              "    </tr>\n",
              "    <tr>\n",
              "      <th>1760</th>\n",
              "      <td>tt0799949</td>\n",
              "      <td>20000000</td>\n",
              "      <td>86865564</td>\n",
              "      <td>66865564</td>\n",
              "      <td>Epic Movie</td>\n",
              "      <td>10</td>\n",
              "      <td>Kal Penn|Adam Campbell|Jennifer Coolidge|Jayma...</td>\n",
              "      <td>Jason Friedberg|Aaron Seltzer</td>\n",
              "      <td>We know it's big. We measured.</td>\n",
              "      <td>When Edward, Peter, Lucy and Susan each follow...</td>\n",
              "      <td>400</td>\n",
              "      <td>86</td>\n",
              "      <td>Action|Adventure|Comedy</td>\n",
              "      <td>Twentieth Century Fox Film Corporation|Regency...</td>\n",
              "      <td>2007-01-25</td>\n",
              "      <td>January</td>\n",
              "      <td>3.4</td>\n",
              "      <td>2007</td>\n",
              "    </tr>\n",
              "    <tr>\n",
              "      <th>965</th>\n",
              "      <td>tt0295254</td>\n",
              "      <td>40000000</td>\n",
              "      <td>18902015</td>\n",
              "      <td>-21097985</td>\n",
              "      <td>FearDotCom</td>\n",
              "      <td>10</td>\n",
              "      <td>Stephen Dorff|Natascha McElhone|Stephen Rea|Ud...</td>\n",
              "      <td>William Malone</td>\n",
              "      <td>The last site you'll ever see.</td>\n",
              "      <td>With four corpses on his hands, New York City ...</td>\n",
              "      <td>446</td>\n",
              "      <td>101</td>\n",
              "      <td>Horror|Thriller</td>\n",
              "      <td>Milagro Films|Franchise Pictures|DoRo Fiction ...</td>\n",
              "      <td>2002-08-09</td>\n",
              "      <td>August</td>\n",
              "      <td>3.3</td>\n",
              "      <td>2002</td>\n",
              "    </tr>\n",
              "    <tr>\n",
              "      <th>709</th>\n",
              "      <td>tt1213644</td>\n",
              "      <td>25000000</td>\n",
              "      <td>14109284</td>\n",
              "      <td>-10890716</td>\n",
              "      <td>Disaster Movie</td>\n",
              "      <td>14</td>\n",
              "      <td>Matt Lanter|Vanessa Lachey|Nicole Ari Parker|C...</td>\n",
              "      <td>Jason Friedberg|Aaron Seltzer</td>\n",
              "      <td>Your favorite movies are going to be destroyed.</td>\n",
              "      <td>In DISASTER MOVIE, the filmmaking team behind ...</td>\n",
              "      <td>250</td>\n",
              "      <td>87</td>\n",
              "      <td>Action|Comedy</td>\n",
              "      <td>Grosvenor Park Media Ltd.|LionsGate|3 in the Box</td>\n",
              "      <td>2008-08-29</td>\n",
              "      <td>August</td>\n",
              "      <td>3.3</td>\n",
              "      <td>2008</td>\n",
              "    </tr>\n",
              "  </tbody>\n",
              "</table>\n",
              "<p>1889 rows × 18 columns</p>\n",
              "</div>"
            ],
            "text/plain": [
              "        imdb_id     budget     revenue  ...     month vote_average  release_year\n",
              "599   tt0468569  185000000  1001921825  ...      July          8.1          2008\n",
              "118   tt0816692  165000000   621752480  ...  November          8.0          2014\n",
              "125   tt2084970   14000000   233555708  ...  November          8.0          2014\n",
              "9     tt2096673  175000000   853708609  ...      June          8.0          2015\n",
              "34    tt3170832    6000000    35401758  ...   October          8.0          2015\n",
              "...         ...        ...         ...  ...       ...          ...           ...\n",
              "1424  tt0369226   20000000    10442808  ...   January          3.5          2005\n",
              "1161  tt0317676    7000000    13818181  ...     April          3.4          2003\n",
              "1760  tt0799949   20000000    86865564  ...   January          3.4          2007\n",
              "965   tt0295254   40000000    18902015  ...    August          3.3          2002\n",
              "709   tt1213644   25000000    14109284  ...    August          3.3          2008\n",
              "\n",
              "[1889 rows x 18 columns]"
            ]
          },
          "metadata": {
            "tags": []
          }
        }
      ]
    },
    {
      "cell_type": "markdown",
      "metadata": {
        "id": "MdXsUXbCVqAV"
      },
      "source": [
        "# 27. Какие актеры чаще всего снимаются в одном фильме вместе?\n"
      ]
    },
    {
      "cell_type": "code",
      "metadata": {
        "colab": {
          "base_uri": "https://localhost:8080/",
          "height": 34
        },
        "id": "Gtr08UbKN24m",
        "outputId": "81230250-8f54-4307-a822-7fa96554899b"
      },
      "source": [
        "answers['27'] = '27. Daniel Radcliffe, Rupert Grint'\r\n",
        "\r\n",
        "from itertools import combinations\r\n",
        "pairs_dict = {}\r\n",
        "for index, row in data.iterrows():\r\n",
        "  actors = row.cast.split('|')\r\n",
        "  actor_pairs = list(combinations(actors, 2))\r\n",
        "  for pair in actor_pairs:\r\n",
        "    if pair in pairs_dict:\r\n",
        "      pairs_dict[pair] += 1\r\n",
        "    else:\r\n",
        "      pairs_dict[pair] = 1\r\n",
        "  \r\n",
        "\r\n",
        "display(dict(sorted(pairs_dict.items(), key=lambda item: item[1], reverse=True)[0:1]))\r\n"
      ],
      "execution_count": 360,
      "outputs": [
        {
          "output_type": "display_data",
          "data": {
            "text/plain": [
              "{('Daniel Radcliffe', 'Rupert Grint'): 8}"
            ]
          },
          "metadata": {
            "tags": []
          }
        }
      ]
    },
    {
      "cell_type": "markdown",
      "metadata": {
        "id": "U0nONFnGVqAX"
      },
      "source": [
        "# Submission"
      ]
    },
    {
      "cell_type": "code",
      "metadata": {
        "id": "IfcaRO9-VqAX",
        "colab": {
          "base_uri": "https://localhost:8080/"
        },
        "outputId": "78765584-5d51-440e-bfad-7ecd30e2010a"
      },
      "source": [
        "# в конце можно посмотреть свои ответы к каждому вопросу\n",
        "answers"
      ],
      "execution_count": 361,
      "outputs": [
        {
          "output_type": "execute_result",
          "data": {
            "text/plain": [
              "{'1': '1. Pirates of the Caribbean: On Stranger Tides (tt1298650)',\n",
              " '10': '10. The Lone Ranger (tt1210819)',\n",
              " '11': '11. Drama',\n",
              " '12': '12. Drama',\n",
              " '13': '13. Peter Jackson',\n",
              " '14': '14. Robert Rodriguez',\n",
              " '15': '15. Chris Hemsworth',\n",
              " '16': '16. Tom Cruise',\n",
              " '17': 'Action',\n",
              " '18': '18. K-19: The Widowmaker (tt0267626)',\n",
              " '19': '19. 2015',\n",
              " '2': '2. Gods and Generals (tt0279111)',\n",
              " '20': '20. 2014',\n",
              " '21': '21. September',\n",
              " '22': '22. 450',\n",
              " '23': '23. Peter Jackson',\n",
              " '24': '24. Four By Two Productions',\n",
              " '25': '25. Midnight Picture Show',\n",
              " '26': \"26. The Dark Knight, Interstellar, The Imitation Game, Inside Out, Room, The Wolf of Wall Street, Gone Girl, 12 Years a Slave, Guardians of the Galaxy, The Lord of the Rings: The Return of the King, Memento, Inception, The Pianist, The Grand Budapest Hotel, Her, Spotlight, Big Hero 6, The Fault in Our Stars, The Lord of the Rings: The Two Towers, There Will Be Blood, The Theory of Everything, The Lord of the Rings: The Fellowship of the Ring, The Prestige, Eternal Sunshine of the Spotless Mind, 3 Idiots, Mr. Nobody, Prisoners, Dallas Buyers Club, Straight Outta Compton, Hachi: A Dog's Tale, Harry Potter and the Deathly Hallows: Part 2, La migliore offerta, How to Train Your Dragon 2, Edge of Tomorrow, Inglourious Basterds, Captain Phillips, The Departed, Django Unchained, Gladiator, Rush, Into the Wild, Captain America: The Winter Soldier, Catch Me If You Can, X-Men: Days of Future Past, Moonrise Kingdom, Nightcrawler, The Perks of Being a Wallflower, WALLÂ·E, The Boy in the Striped Pyjamas, Gran Torino, Pride & Prejudice, Kill Bill: Vol. 1, The Help, Up, The Martian, Ex Machina, Million Dollar Baby, The Hobbit: The Desolation of Smaug, Kingsman: The Secret Service, Shutter Island, No Country for Old Men, V for Vendetta, The Little Prince, The Notebook, Toy Story 3, American Sniper, The Pursuit of Happyness, Kill Bill: Vol. 2, The Dark Knight Rises, Slumdog Millionaire, Frozen, Snatch, The Lego Movie, Star Wars: The Force Awakens, Fantastic Mr. Fox, Freedom Writers, Selma, A Beautiful Mind, Earth, Baby Boy, Big Fish, Lone Survivor, Philomena, The Conjuring, Star Trek Into Darkness, The Hunger Games: Catching Fire, Mystic River, Gravity, Fury, Harry Potter and the Prisoner of Azkaban, Dawn of the Planet of the Apes, Mulholland Drive, Moon, The King's Speech, Finding Nemo, Dancer in the Dark, How to Train Your Dragon, Seven Pounds, The Hateful Eight, Avengers: Age of Ultron, Everything is Illuminated, Harry Potter and the Deathly Hallows: Part 1, Nebraska, In Bruges, The Longest Ride, The Big Short, Now You See Me, Man on Fire, Almost Famous, Creed, Monsters, Inc., Brooklyn, Birdman, The Age of Adaline, Harry Potter and the Goblet of Fire, American Gangster, The Royal Tenenbaums, Coach Carter, The Danish Girl, Blow, Pirates of the Caribbean: The Curse of the Black Pearl, Remember the Titans, Batman Begins, Ratatouille, The Kite Runner, The Last King of Scotland, Lucky Number Slevin, Cast Away, Star Trek, Saving Mr. Banks, The Avengers, Little Miss Sunshine, Iron Man, Children of Men, Drive, Love & Basketball, Harry Potter and the Half-Blood Prince, Frida, Tangled, Ji jie hao, A Walk to Remember, Furious 7, (500) Days of Summer, Southpaw, Woman in Gold, The Revenant, Harry Potter and the Order of the Phoenix, Predestination, Training Day, If I Stay, Friday Night Lights, The Butler, The Judge, Unbroken, Moulin Rouge!, The Best of Me, Begin Again, The Hundred-Foot Journey, Harry Potter and the Philosopher's Stone, Hotel Rwanda, The Life of David Gale, The Incredibles, The Machinist, The Secret Life of Bees, Inside Man, The Great Gatsby, Blood Diamond, The Artist, The Bourne Ultimatum, Trumbo, Brokeback Mountain, The Curious Case of Benjamin Button, O Brother, Where Art Thou?, Pitch Perfect, The Equalizer, Atonement, Harry Potter and the Chamber of Secrets, Taken, Scott Pilgrim vs. the World, I Am Sam, Law Abiding Citizen, The Hurt Locker, Adaptation., Eye in the Sky, Chef, Crash, The Express, Match Point, Black Swan, Zombieland, Finding Neverland, Life of Pi, The Blind Side, Road to Perdition, The Hobbit: The Battle of the Five Armies, The Last Samurai, The Girl with the Dragon Tattoo, The Butterfly Effect, Thank You for Smoking, Spirit: Stallion of the Cimarron, Little Boy, Suffragette, The Fighter, Despicable Me, Avatar, Belle, Mad Max: Fury Road, District 9, John Q, The Hangover, The Bourne Supremacy, Mission: Impossible - Rogue Nation, Billy Elliot, Memoirs of a Geisha, St. Vincent, The Intern, Paddington, The Boat That Rocked, Milk, American Psycho, Black Hawk Down, Enemy at the Gates, Fast Five, Sicario, Changeling, The Last Castle, Sin City, Carol, Coraline, Apocalypto, Shrek, Zodiac, The Bourne Identity, Casino Royale, Bridge of Spies, The Social Network, Radio, The Others, End of Watch, Perfume: The Story of a Murderer, True Grit, The Guardian, Walk the Line, My Sister's Keeper, Corpse Bride, The Best Man Holiday, Star Wars: Episode III - Revenge of the Sith, The Devil Wears Prada, The Greatest Game Ever Played, The Namesake, Kick-Ass, The Illusionist, Cinderella Man, Max, Wreck-It Ralph, K-PAX, Les MisÃ©rables, X-Men: First Class, Argo, High Fidelity, The Maze Runner, John Wick, Eastern Promises, Maleficent, Sicko, Gone Baby Gone, Reign Over Me, Treasure Planet, The Wrestler, The Man from U.N.C.L.E., Extremely Loud & Incredibly Close, P.S. I Love You, Limitless, Superbad, Conviction, Monsters University, Despicable Me 2, Source Code, The Terminal, 300, Men of Honor, The Secret Life of Walter Mitty, Ocean's Eleven, Ray, 21 Grams, The Life Aquatic with Steve Zissou, Identity, Ant-Man, Stardust, 22 Jump Street, Moneyball, Carnage, Puss in Boots, Lords of Dogtown, Capitalism: A Love Story, One Day, Crazy, Stupid, Love., The Lincoln Lawyer, War Horse, Sherlock Holmes: A Game of Shadows, Soul Surfer, Mud, Ice Age, Silver Linings Playbook, The Town, Iron Man 3, Barney's Version, Love Actually, The Vow, Rise of the Guardians, 127 Hours, The Hobbit: An Unexpected Journey, Minority Report, Blue Jasmine, Equilibrium, Lord of War, Gangs of New York, 28 Days Later..., Lilo & Stitch, An Unfinished Life, Invictus, Rise of the Planet of the Apes, Erin Brockovich, Sherlock Holmes, Clerks II, August Rush, Spy, The Dressmaker, Juno, Bridge to Terabithia, Shooter, Home, The Emperor's New Groove, Letters from Iwo Jima, Concussion, The Young Victoria, The Assassination of Jesse James by the Coward Robert Ford, The Bucket List, Finding Forrester, Becoming Jane, Divergent, Stranger Than Fiction, The Simpsons Movie, Suite FranÃ§aise, Sweeney Todd: The Demon Barber of Fleet Street, Sunshine, The Master, I Am Legend, Pirates of the Caribbean: At World's End, For Greater Glory - The True Story of Cristiada, Connie and Carla, Frailty, Non-Stop, Running Scared, Lo imposible, Miracle, Watchmen, Burlesque, American Hustle, Mean Girls, Dolphin Tale 2, The Next Three Days, The Water Diviner, Safe Haven, Thor: The Dark World, Charlie St. Cloud, 42, Deux frÃ¨res, Troy, August: Osage County, Monster, Runaway Jury, Big Eyes, The Passion of the Christ, Open Range, The Phantom of the Opera, Mr. Peabody & Sherman, 3:10 to Yuma, The Croods, Skyfall, North Country, Marley & Me, The Walk, Hotel Transylvania 2, Frequency, Pay It Forward, The Best Exotic Marigold Hotel, RockNRolla, Winnie the Pooh, The DUFF, An Education, Pirates of the Caribbean: Dead Man's Chest, Pitch Perfect 2, Hugo, 50/50, The Brothers Bloom, Cinderella, Precious, The Road to El Dorado, Kung Fu Panda, 8 Mile, The Hours, My Week with Marilyn, Ali, Hotel Transylvania, A Mighty Heart, Pacific Rim, Unbreakable, Before the Devil Knows You're Dead, Anchorman: The Legend of Ron Burgundy, World War Z, Collateral, Mr. Brooks, The Hunger Games, Escape Plan, The Aviator, Black or White, Never Let Me Go, Mission: Impossible - Ghost Protocol, The Place Beyond the Pines, X2, Lawless, Ghosts of the Abyss, Legend, Peter Pan, No Escape, Blended, Babel, Daddy's Little Girls, Disconnect, The Lookout, The Patriot, Focus, Doubt, 21 Jump Street, Water for Elephants, Meet the Robinsons, Vicky Cristina Barcelona, Dark Blue, About Schmidt, Dawn of the Dead, Everest, The Holiday, Step Up All In, Flags of Our Fathers, The Way Back, Brothers, Broken Flowers, The Constant Gardener, Step Up, A History of Violence, Mao's Last Dancer, The Fountain, IndigÃ¨nes, The Three Burials of Melquiades Estrada, The Grand Seduction, The Road, A Scanner Darkly, Capote, The Proposal, Munich, What If, The Curse of the Were-Rabbit, The Italian Job, Wicker Park, Dolphin Tale, Serendipity, The School of Rock, Easy A, Valkyrie, A Christmas Carol, Akeelah and the Bee, Pitch Black, Rescue Dawn, Transformers, Master and Commander: The Far Side of the World, The Mist, Old School, Megamind, The Purge: Anarchy, Spider-Man, Harry Brown, Step Up Revolution, The Amazing Spider-Man 2, Four Brothers, United 93, State of Play, Love in the Time of Cholera, Seven Psychopaths, Enchanted, The Gift, The Queen, The Hitchhiker's Guide to the Galaxy, People Like Us, ParaNorman, Gosford Park, Insomnia, Think Like a Man, Step Brothers, Pineapple Express, The Lovely Bones, The Jacket, The Matrix Reloaded, Metallica: Through the Never, The Guard, The Guest, Chappie, Agora, Chocolat, I, Robot, Thirteen Days, Million Dollar Arm, The SpongeBob SquarePants Movie, Brave, Next Friday, Iron Man 2, Super 8, Ender's Game, 2 Guns, The Adventures of Tintin, The Heat, Antwone Fisher, Kung Fu Panda 2, The Call, Possession, X-Men, In Time, Let Me In, Behind the Candelabra, The Score, Eight Below, Disturbia, Pearl Harbor, The Descendants, Sideways, A.I. Artificial Intelligence, The Boxtrolls, The Hunger Games: Mockingjay - Part 1, Defiance, Secretariat, Fast & Furious 6, Fahrenheit 9/11, Crazy/Beautiful, The Great Debaters, Traffic, Up in the Air, The Good Dinosaur, The Railway Man, Closer, Endless Love, We Were Soldiers, The Wedding Ringer, Just Like Heaven, Friday After Next, Public Enemies, Things We Lost in the Fire, Red Dragon, Walk Hard: The Dewey Cox Story, Igby Goes Down, Dan in Real Life, Orphan, Death Sentence, Chicago, The Hoax, Phone Booth, The Tree of Life, Goal!: The Dream Begins, Rent, Colombiana, Rango, Revolutionary Road, Rio, Bridesmaids, I'm Not There., The Hunger Games: Mockingjay - Part 2, Friends with Benefits, Real Steel, Crank, Minions, Captain America: The First Avenger, DÃ©jÃ\\xa0 Vu, Hanna, Footloose, The Great Raid, Get Rich or Die Tryin', Boiler Room, A Lot Like Love, Meet the Parents, We Are Marshall, The Soloist, Unleashed, Never Back Down, The Transporter, 21, Marie Antoinette, Body of Lies, Thor, Mr. & Mrs. Smith, Jurassic World, Frankenweenie, Gridiron Gang, The Chronicles of Narnia: The Lion, the Witch and the Wardrobe, Spy Game, Elf, Dear John, Penguins of Madagascar, Underworld, Charlie and the Chocolate Factory, Project X, Katy Perry: Part of Me, Dhoom 2, Big Miracle, Banlieue 13, Man of Steel, 50 First Dates, RED, Rush Hour 2, The Book of Eli, A Knight's Tale, Mandela: Long Walk to Freedom, The Princess and the Frog, Rio 2, Cold Mountain, Step Up 3D, Atlantis: The Lost Empire, Tomorrow, When the War Began, 9, Bridget Jones's Diary, Love & Other Drugs, Team America: World Police, A Mighty Wind, Foxcatcher, This Is Where I Leave You, Calendar Girls, Elysium, The Ghost Writer, Legend of the Guardians: The Owls of Ga'Hoole, Grindhouse, Julie & Julia, Dreamgirls, Shrek 2, Life as We Know It, Constantine, The Cabin in the Woods, All Is Lost, Kill the Messenger, Dredd, Cloud Atlas, Looper, Lemony Snicket's A Series of Unfortunate Events, The Majestic, Zero Dark Thirty, Chronicle, How High, Sweet November, EuroTrip, White House Down, Last Vegas, Hellboy, Harold & Kumar Go to White Castle, Machine Gun Preacher, The Little Vampire, Paul, Wonderland, We Bought a Zoo, The Wolverine, Borat: Cultural Learnings of America for Make Benefit Glorious Nation of Kazakhstan, Unknown, The Adjustment Bureau, Quills, Spider-Man 2, National Treasure, Cars, Ice Age: The Meltdown, The Family Man, Horrible Bosses, Ocean's Twelve, Epic, Warm Bodies, Cloudy with a Chance of Meatballs 2, Trance, The Da Vinci Code, All About the Benjamins, Tears of the Sun, Rocky Balboa, Last Holiday, Ocean's Thirteen, Kingdom of Heaven, The Kingdom, King Kong, We Own the Night, Unfaithful, Take the Lead, One Hour Photo, The Polar Express, Ted, Jackass Number Two, Far from Heaven, The Amazing Spider-Man, Confessions of a Dangerous Mind, Hairspray, 1408, Elizabeth: The Golden Age, Jarhead, About a Boy, Attack the Block, The Ring, Diary of a Wimpy Kid: Rodrick Rules, Out of the Furnace, White Chicks, Seabiscuit, The Ides of March, The Muppets, Stay, Xin shao lin si, A Good Year, Star Wars: Episode II - Attack of the Clones, The Matrix Revolutions, Good Night, and Good Luck., The Island, Madagascar, The Pirates! In an Adventure with Scientists!, Panic Room, Madagascar 3: Europe's Most Wanted, Homefront, The Four Feathers, Riding in Cars with Boys, A Most Violent Year, Crazy Heart, Me and Orson Welles, Crimson Peak, Fast & Furious, Cloverfield, Step Up 2: The Streets, Tropic Thunder, In the Heart of the Sea, A Serious Man, Hardball, Hellboy II: The Golden Army, The Peanuts Movie, I Love You, Man, The Fast and the Furious, Save the Last Dance, Maze Runner: The Scorch Trials, From Hell, Nick and Norah's Infinite Playlist, Let's Be Cops, Fair Game, The Company Men, Cloudy with a Chance of Meatballs, The Giver, Undisputed, Yes Man, Awake, Drumline, Lucy, The Ugly Truth, Veronica Mars, Inherent Vice, 28 Weeks Later, Enough, Wanted, Secret Window, Charlie Wilson's War, Hidalgo, Resident Evil, Killer Joe, Live Free or Die Hard, Jumping the Broom, The Devil's Double, Mindhunters, This Must Be the Place, Australia, Role Models, Bolt, Forgetting Sarah Marshall, Signs, Notes on a Scandal, Burn After Reading, Pirates of the Caribbean: On Stranger Tides, Black Snake Moan, The Princess Diaries, The Sisterhood of the Traveling Pants, Vanilla Sky, TRON: Legacy, Jay and Silent Bob Strike Back, Bad Boys II, Hitch, Wedding Crashers, The East, Alice in Wonderland, The Rundown, Leap Year, Green Zone, Side Effects, The Runaways, Evil Dead, Oblivion, Kiss of the Dragon, Bruce Almighty, Hannibal, She's the Man, Fur: An Imaginary Portrait of Diane Arbus, The Lorax, Transsiberian, Smokin' Aces, Monster House, Act of Valor, The Lake House, Silent Hill, The Skeleton Key, Hearts in Atlantis, I Love You Phillip Morris, Mission: Impossible III, Underworld: Evolution, Bright Star, Adventureland, The Words, Take Me Home Tonight, Angels & Demons, Insidious: Chapter 3, Burnt, Run All Night, Why Did I Get Married?, Magic Mike XXL, Michael Clayton, Project Almanac, Chicken Run, Just Go With It, Insurgent, Black Mass, The Mechanic, The Grey, Ted 2, Big Trouble, Itâ€™s a Boy Girl Thing, Jack Reacher, Miss Potter, Final Destination, Ice Age: Continental Drift, Self/less, Prometheus, Over the Hedge, Pandorum, Talladega Nights: The Ballad of Ricky Bobby, Tenacious D in The Pick of Destiny, Tristan & Isolde, Safe, X-Men: The Last Stand, Dead Silence, Barbershop, The Chronicles of Riddick, Entourage, Return to Never Land, My Blueberry Nights, DodgeBall: A True Underdog Story, The Girl Next Door, Alexander and the Terrible, Horrible, No Good, Very Bad Day, When the Game Stands Tall, Muppets Most Wanted, Mamma Mia!, Underworld: Rise of the Lycans, What's Your Number?, Dragonfly, Safe House, Night at the Museum, Joy Ride, Savages, The Frozen Ground, How to Lose a Guy in 10 Days, Unstoppable, The A-Team, Machete, Something's Gotta Give, Tomorrowland, Black Nativity, Spectre, The Beach, Due Date, Uptown Girls, Oculus, Swimming Pool, This Is the End, The Mortal Instruments: City of Bones, Olympus Has Fallen, The 40 Year Old Virgin, Salt, Man on a Ledge, The Gift, It's Complicated, Need for Speed, Hustle & Flow, Paper Towns, The Wedding Date, The Longest Yard, Quartet, The Legend of Bagger Vance, Bad Santa, Derailed, The Exorcism of Emily Rose, X-Men Origins: Wolverine, The Interpreter, Hide and Seek, Goosebumps, Space Cowboys, Jackass: The Movie, Riddick, The Spiderwick Chronicles, A Walk Among the Tombstones, Spartan, Funny Games, The Water Horse, Neighbors, Shoot 'Em Up, Rush Hour 3, Vantage Point, Rambo, Secret in Their Eyes, In the Valley of Elah, The Expendables 3, Godzilla, Street Kings, The Number 23, Horton Hears a Who!, The Iron Lady, We Are Your Friends, Run Fatboy Run, The Other Woman, The Forbidden Kingdom, Eagle Eye, Sin City: A Dame to Kill For, Upside Down, Magic Mike, The Internship, The Night Before, Grown Ups, Men in Black 3, Vacation, Dinosaur, The Manchurian Candidate, Morning Glory, King Arthur, Repo Men, Legends of Oz: Dorothy's Return, The Other Guys, 30 Days of Night, Because of Winn-Dixie, Bandits, Accepted, Open Season, Murder by Numbers, Taken 3, The Fast and the Furious: Tokyo Drift, Out Cold, No Strings Attached, Robin Hood, The Hangover Part II, 2 Fast 2 Furious, The Woman in Black, Fright Night, Music and Lyrics, Welcome Home Roscoe Jenkins, Dracula Untold, Miss Congeniality, A Perfect Getaway, Trainwreck, San Andreas, Don't Say a Word, Nanny McPhee, Contraband, Transporter 2, Mr. Bean's Holiday, Brooklyn's Finest, Zoolander, U-571, Sex and the City, Prince of Persia: The Sands of Time, Titan A.E., Once Upon a Time in Mexico, Legally Blonde, 300: Rise of an Empire, The Twilight Saga: Breaking Dawn - Part 2, Night at the Museum: Secret of the Tomb, Cake, How the Grinch Stole Christmas, 27 Dresses, God's Not Dead, Heaven is for Real, Meet the Fockers, The Day After Tomorrow, Gangster Squad, My Big Fat Greek Wedding, Proof, Transformers: Dark of the Moon, Stomp the Yard, The Incredible Hulk, Red Tails, Jackass Presents: Bad Grandpa, 13 Going On 30, Madagascar: Escape 2 Africa, Star Trek: Nemesis, The Chronicles of Narnia: Prince Caspian, Delivery Man, Premium Rush, City of Ember, Femme Fatale, The Debt, Takers, The Family, As Above, So Below, Resident Evil: Apocalypse, The Interview, Contagion, Albert Nobbs, What Lies Beneath, The Taking of Pelham 1 2 3, 16 Blocks, Blade II, Drag Me to Hell, Flyboys, The Crazies, Horrible Bosses 2, Red Eye, Domino, The Karate Kid, Ride Along, Annie, Pain & Gain, Turbo, Wild Target, Ninja Assassin, The Joneses, TMNT, Swordfish, Elizabethtown, Hoodwinked!, The Whole Nine Yards, American Wedding, Hostage, Outlander, Jeepers Creepers, In the Land of Women, The Game Plan, Johnny English, Grudge Match, The Hangover Part III, Edge of Darkness, Nanny McPhee and the Big Bang, You Again, How to Lose Friends & Alienate People, Burke & Hare, The Lone Ranger, Why Did I Get Married Too?, Paranormal Activity 3, Anchorman 2: The Legend Continues, The Host, Oldboy, Mama, Down with Love, Honey, Going the Distance, No Reservations, Out of Time, Jobs, Syriana, Basic, Vertical Limit, Resident Evil: Extinction, Freaky Friday, Shrek Forever After, Percy Jackson & the Olympians: The Lightning Thief, The Tourist, The Chronicles of Narnia: The Voyage of the Dawn Treader, The Texas Chainsaw Massacre, The Village, I Am Number Four, Killer Elite, A Very Harold & Kumar Christmas, The Hills Have Eyes, High Crimes, John Tucker Must Die, John Carter, Case 39, The Informant!, What Women Want, Under the Skin, Saw III, Something Borrowed, The Rookie, Johnny English Reborn, Quantum of Solace, American Reunion, The Amityville Horror, He's Just Not That Into You, Bridget Jones: The Edge of Reason, Taken 2, The Expendables 2, Monsters vs Aliens, National Treasure: Book of Secrets, Ladder 49, Beastly, Confessions of a Shopaholic, Hannibal Rising, Catch and Release, Underworld: Awakening, The Thing, Flushed Away, Coyote Ugly, That Awkward Moment, Scream 4, The Nanny Diaries, Flightplan, Hancock, Knocked Up, Sweet Home Alabama, Taking Lives, The Matador, Cellular, The November Man, Astro Boy, Brideshead Revisited, Harold & Kumar Escape from Guantanamo Bay, K-19: The Widowmaker, The Punisher, 17 Again, The Rover, Transformers: Revenge of the Fallen, Gone In Sixty Seconds, The Raven, Zack and Miri Make a Porno, Mirrors, Percy Jackson: Sea of Monsters, Surf's Up, A Cinderella Story, Night at the Museum: Battle of the Smithsonian, Planes: Fire & Rescue, Krampus, Hot Tub Time Machine, Winter's Tale, Get Him to the Greek, Jack Ryan: Shadow Recruit, Grown Ups 2, Hitman, She's Out of My League, The Alamo, Van Helsing, Transcendence, The Visit, Paparazzi, The Princess Diaries 2: Royal Engagement, Chloe, Crank: High Voltage, The Boondock Saints II: All Saints Day, The Lady in the Van, 12 Rounds, Into the Blue, Click, Sisters, Robots, Transformers: Age of Extinction, The Expendables, The Perfect Storm, Me, Myself & Irene, The Invisible, The Skulls, Hardcore Henry, Assault on Precinct 13, Two for the Money, Fun with Dick and Jane, Pan, Saw VI, The Kid, Scary Movie, Aquamarine, Child 44, Knight and Day, Battle of the Year, Premonition, Sydney White, Next, The Twilight Saga: Eclipse, War of the Worlds, World Trade Center, I Now Pronounce You Chuck & Larry, War, Get Hard, Vacancy, Daybreakers, The Good Shepherd, While We're Young, Date Night, Country Strong, The Change-Up, Get Smart, American Pie 2, The Mothman Prophecies, Shanghai Knights, The Dictator, The Eagle, Transporter 3, Jeff, Who Lives at Home, Windtalkers, The Strangers, Anger Management, Final Destination 5, Parental Guidance, Men in Black II, Cradle 2 the Grave, Auto Focus, The Bourne Legacy, Young Adam, Death Race, Final Destination 2, Saw V, Austin Powers in Goldmember, Arbitrage, Sparkle, Reign of Fire, Diary of a Wimpy Kid: Dog Days, Behind Enemy Lines, Dream House, Jumper, The Conspirator, Sucker Punch, National Lampoonâ€™s Van Wilder, Seeking Justice, Rat Race, Rock of Ages, Monte Carlo, A Dangerous Method, Rock Star, Wrong Turn, What Happens in Vegas, Prom, Free Birds, Righteous Kill, Son of God, Happy Feet Two, Khumba, The Mummy Returns, Home on the Range, Shall We Dance?, Blood Ties, Push, Baggage Claim, Shark Tale, Brick Mansions, Baby Mama, Cheaper by the Dozen, The Pacifier, Lockout, Romeo Must Die, Along Came a Spider, The Legend of Zorro, Terminator 3: Rise of the Machines, Doomsday, Cheaper by the Dozen 2, Final Destination 3, Annapolis, The Good German, About Last Night, Gothika, Happy Feet, The Sorcerer's Apprentice, Predators, S.W.A.T., The Switch, Solaris, The Grudge, Mission: Impossible II, No Good Deed, Teenage Mutant Ninja Turtles, D-Tox, The Lizzie McGuire Movie, Original Sin, Terminator Salvation, Shrek the Third, The Twilight Saga: Breaking Dawn - Part 1, Twilight, Deception, Made of Honor, Carrie, Hannah Montana: The Movie, Total Recall, Rules of Engagement, Pixels, Saw IV, Extraordinary Measures, Two Weeks Notice, Sky High, The Possession, American Outlaws, Everything Must Go, 47 Ronin, Tower Heist, Diary of a Wimpy Kid, Wall Street: Money Never Sleeps, The International, Bride Wars, Die Another Day, Inkheart, Spider-Man 3, Journey 2: The Mysterious Island, Terminator Genisys, Bedtime Stories, Untraceable, Cars 2, The Bad Lieutenant: Port of Call - New Orleans, The Good Girl, Trapped, The Invention of Lying, Dirty Dancing: Havana Nights, Land of the Dead, Saw 3D, Lakeview Terrace, Escape from Planet Earth, Extract, Kicking & Screaming, The Hunted, Reno 911!: Miami, Resident Evil: Afterlife, The Men Who Stare at Goats, J. Edgar, Halloween, Curious George, A Thousand Words, House of 1000 Corpses, Gods and Generals, Jem and the Holograms, The Mexican, Hart's War, Promised Land, Fever Pitch, Planet 51, The Weather Man, The Secret of Moonacre, Earth to Echo, Solitary Man, Sky Captain and the World of Tomorrow, Killing Them Softly, Our Brand Is Crisis, Blade: Trinity, Daddy's Home, My Life in Ruins, The SpongeBob Movie: Sponge Out of Water, Ella Enchanted, Whisper, Surrogates, Sanctum, Moms' Night Out, Lions for Lambs, Yours, Mine & Ours, Big Fat Liar, Fire with Fire, Blood Work, G.I. Joe: The Rise of Cobra, Bring It On, Our Idiot Brother, Centurion, The Back-Up Plan, The Tailor of Panama, Wimbledon, 21 & Over, City By The Sea, Intolerable Cruelty, The Monuments Men, Just My Luck, Mr. Deeds, Planes, Redemption, Barbershop 2:  Back in Business, Miami Vice, Snow White and the Huntsman, Keeping the Faith, The Cell, The Perfect Game, RV, RoboCop, Rendition, Gnomeo & Juliet, Knockaround Guys, Killers, Swing Vote, Broken City, Daddy Day Care, Slackers, Journey to the Center of the Earth, The Cat's Meow, xXx, The Rite, Death at a Funeral, The Tale of Despereaux, Maid in Manhattan, The Golden Compass, A Man Apart, Monster-in-Law, Hansel & Gretel: Witch Hunters, Along Came Polly, Snitch, The Midnight Meat Train, Changing Lanes, 15 Minutes, Paycheck, What to Expect When You're Expecting, The Art of War, Big Momma's House, Road Trip, Freddy vs. Jason, Eat Pray Love, Knowing, Into the Storm, Twisted, You Don't Mess With the Zohan, Dark Shadows, Big Momma's House 2, Speed Racer, The Wash, Armored, Gamer, The Perfect Guy, The Heartbreak Kid, Hostel: Part II, Failure to Launch, Indiana Jones and the Kingdom of the Crystal Skull, That's My Boy, Jurassic Park III, The Gunman, Angel Eyes, The Five-Year Engagement, The Sentinel, New Year's Eve, The Twilight Saga: New Moon, Mission to Mars, Fantastic Four, Clash of the Titans, The Time Machine, The House Bunny, Paranoia, Man of Tai Chi, The Fifth Estate, The Last Witch Hunter, Valentine's Day, Around the World in 80 Days, Oz: The Great and Powerful, Exodus: Gods and Kings, Chicken Little, Identity Thief, Parker, Bee Movie, Scream 3, Alvin and the Chipmunks, The Big Wedding, W., Devil, Sylvia, Hercules, Into the Woods, Spanglish, Lara Croft: Tomb Raider, Annabelle, Resident Evil: Retribution, 2012, The Eye, The Fourth Kind, The Gambler, Hope Springs, Sahara, Friday the 13th, Hotel for Dogs, On the Road, Scary Movie 3, Immortals, Blue Crush, Larry Crowne, Osmosis Jones, Alexander, Final Fantasy: The Spirits Within, The Jungle Book 2, The League of Extraordinary Gentlemen, AntiTrust, 88 Minutes, Little Man, Punisher: War Zone, The Final Destination, The Smurfs, Noah, Spy Kids, Victor Frankenstein, 30 Minutes or Less, The Whole Ten Yards, Collateral Damage, Dumb and Dumber To, Fred Claus, Bad Company, Hereafter, Vanity Fair, Starsky & Hutch, The Rum Diary, School for Scoundrels, AVP: Alien vs. Predator, Ricki and the Flash, London Boulevard, Hot Pursuit, Rebound, Smart People, Good Luck Chuck, Lara Croft Tomb Raider: The Cradle of Life, Cop Out, Joe Dirt, Jimmy Neutron: Boy Genius, Red Riding Hood, Hitman: Agent 47, This Is 40, The Break-Up, Alpha and Omega, Shallow Hal, Scary Movie 2, Runner Runner, Mars Needs Moms, The Three Musketeers, Bad News Bears, Abduction, Charlie's Angels, Funny People, Bandslam, Cirque du Freak: The Vampire's Assistant, Sex and the City 2, Solomon Kane, Obsessed, Love Happens, The Ant Bully, Point Break, The Bounty Hunter, The Smurfs 2, Duplicity, Nacho Libre, Looney Tunes: Back in Action, A Nightmare on Elm Street, Return to Me, Abraham Lincoln: Vampire Hunter, Battleship, Wrath of the Titans, Nim's Island, The Roommate, Ð¡Ñ‚Ð°Ð»Ð¸Ð½Ð³Ñ€Ð°Ð´, Sinister 2, Planet of the Apes, White Noise, The 6th Day, Battle: Los Angeles, Alvin and the Chipmunks: Chipwrecked, Haywire, Jack the Giant Slayer, Are We There Yet?, The Forgotten, A Walk in the Woods, Fun Size, Guess Who, Bad Teacher, The Wedding Planner, The Santa Clause 2, The Stepford Wives, Alfie, Cowboys & Aliens, Jeepers Creepers 2, Big Mommas: Like Father, Like Son, The Sweetest Thing, Little Fockers, Don't Be Afraid of the Dark, 4: Rise of the Silver Surfer, Texas Chainsaw 3D, The Rocker, The Grudge 3, Hall Pass, Admission, The Brothers Grimm, Flight of the Phoenix, Sabotage, The Sitter, When a Stranger Calls, Sugar & Spice, Evolution, The X Files: I Want to Believe, Stuart Little 2, Hop, The Hitcher, Domestic Disturbance, 3000 Miles to Graceland, Mirror Mirror, Race to Witch Mountain, The Contract, All the King's Men, Dinner for Schmucks, The Invasion, The Ladies Man, Igor, The Spy Next Door, The Reaping, Employee of the Month, Man of the Year, Firewall, Beowulf, The Green Hornet, Paul Blart: Mall Cop, Pathfinder, Zookeeper, Land of the Lost, Babylon A.D., The Big Year, Undercover Brother, Quarantine, Shaft, Get Carter, My Best Friend's Girl, Fool's Gold, Red Planet, Gossip, The Bling Ring, Bringing Down The House, Justin Bieber: Never Say Never, Four Christmases, Scooby-Doo, Fifty Shades of Grey, Boys and Girls, Agent Cody Banks 2: Destination London, Johnson Family Vacation, R.I.P.D., A Guy Thing, Alvin and the Chipmunks: The Squeakquel, Bedazzled, Sex Tape, Trespass, Paranormal Activity: The Marked Ones, The Transporter Refueled, I Could Never Be Your Woman, My Bloody Valentine, Stay Alive, The Box, Black Christmas, The Grudge 2, The Glass House, Scary Movie 4, Paul Blart: Mall Cop 2, Max Keeble's Big Move, Couples Retreat, Straw Dogs, Barnyard, Norbit, Perfect Stranger, Head Over Heels, Freedomland, Poseidon, Arthur, Red Dawn, House of Wax, Sorority Row, Just Married, Drive Angry, Hollow Man, Charlie's Angels: Full Throttle, Mortdecai, Ã†on Flux, The Core, Not Another Teen Movie, Be Cool, Priest, Valiant, Max Payne, New in Town, You, Me and Dupree, Love the Coopers, Paranormal Activity 4, I Think I Love My Wife, Aloha, I Don't Know How She Does It, Jupiter Ascending, The Dilemma, Reindeer Games, Conan the Barbarian, Evan Almighty, Hanging Up, Season of the Witch, Young Adult, The In Crowd, Ghost Rider, Queen of the Damned, Snakes on a Plane, Garfield, Legally Blonde 2: Red, White & Blonde, Hulk, Rumor Has It..., Herbie Fully Loaded, The Dukes of Hazzard, One for the Money, Alex Cross, Halloween II, The Cave, Dark Water, The Return, Old Dogs, Lady in the Water, The Covenant, Wanderlust, Whiteout, The Wild, Saving Silverman, The Omen, Spy Kids 2: Island of Lost Dreams, Showtime, 10,000 BC, Without a Paddle, Little Black Book, MacGruber, A Good Day to Die Hard, My Soul to Take, Tooth Fairy, Piranha 3D, Bullet to the Head, Ghost Ship, Machete Kills, Jennifer's Body, I Spy, The Scorpion King, The Incredible Burt Wonderstone, Dreamcatcher, The Haunted Mansion, Timeline, Beverly Hills Chihuahua, Stolen, Dude, Whereâ€™s My Car?, Space Chimps, Your Highness, License to Wed, Mutant Chronicles, Yogi Bear, Racing Stripes, Green Lantern, Silent Hill: Revelation 3D, After Earth, What Just Happened, Meet Dave, Beauty Shop, Post Grad, Aliens in the Attic, The Musketeer, Pompeii, Club Dread, I, Frankenstein, Rock the Kasbah, The Mummy: Tomb of the Dragon Emperor, Serving Sara, Confessions of a Teenage Drama Queen, Shark Night, G-Force, Pulse, The Day the Earth Stood Still, Zoom, Crossroads, Tammy, Mr. 3000, Seventh Son, Suspect Zero, Exit Wounds, Getaway, Diana, Stealth, Walking With Dinosaurs, Gulliver's Travels, Taxi, The Marine, Cats & Dogs 2 : The Revenge of Kitty Galore, Empire State, Blackhat, Spring Breakers, Cats & Dogs, Paranormal Activity: The Ghost Dimension, Did You Hear About The Morgans?, Legion, Bangkok Dangerous, Cursed, Alex & Emma, Whatever It Takes, Stormbreaker, Elektra, 102 Dalmatians, Poltergeist, Superhero Movie, Dr. Dolittle 2, Daredevil, Unfinished Business, Seed of Chucky, Hoodwinked Too! Hood VS. Evil, Doom, Action Replayy, Dylan Dog: Dead of Night, Agent Cody Banks, The Counselor, Stone, Ouija, Marmaduke, The Big Bounce, How Do You Know, Bewitched, The Three Stooges, The Last Legion, Apollo 18, Abandon, The Unborn, xXx: State of the Union, The Order, Spy Kids 3-D: Game Over, Torque, Crocodile Dundee in Los Angeles, The Cold Light of Day, Stuck on You, Summer Catch, Eragon, Nutty Professor II: The Klumps, Tomcats, Driven, Atlas Shrugged Part I, Cosmopolis, Daddy Day Camp, The Happening, A Sound of Thunder, Shorts, The Pyramid, Dracula 2000, Furry Vengeance, The Last Airbender, Ghost Rider: Spirit of Vengeance, The Darkest Hour, Godsend, Supernova, Skyline, Ghosts of Mars, The Spirit, The Adventures of Pluto Nash, The Prince, American Dreamz, Halloween: Resurrection, The Shaggy Dog, Scary Movie 5, All About Steve, Year One, Basic Instinct 2, The Animal, Captivity, Boat Trip, The Last Exorcism Part II, Devil's Due, Virgin Territory, The Love Guru, Boogeyman, Clockstoppers, Movie 43, The Legend of Hercules, Jonah Hex, Corky Romano, The Flintstones in Viva Rock Vegas, The Apparition, Fantastic Four, Ready to Rumble, Highlander: Endgame, Catwoman, Jason X, The Adventures of Sharkboy and Lavagirl, Vampires Suck, Dumb and Dumberer: When Harry Met Lloyd, Piranha 3DD, Jack and Jill, The Fog, Street Fighter: The Legend of Chun-Li, Monkeybone, Bones, Meet the Spartans, The Adventures of Rocky & Bullwinkle, Dungeons & Dragons, Date Movie, I Know Who Killed Me, Gigli, BloodRayne, Left Behind, From Justin to Kelly, Alone in the Dark, House of the Dead, Epic Movie, FearDotCom, Disaster Movie\",\n",
              " '27': '27. Daniel Radcliffe, Rupert Grint',\n",
              " '3': '3. Winnie the Pooh (tt1449283)',\n",
              " '4': '4. 109.6585494970884',\n",
              " '5': '5. 107',\n",
              " '6': '6. Avatar (tt0499549)',\n",
              " '7': '7. The Lone Ranger (tt1210819)',\n",
              " '8': '8. 1478',\n",
              " '9': '9. The Dark Knight (tt0468569)'}"
            ]
          },
          "metadata": {
            "tags": []
          },
          "execution_count": 361
        }
      ]
    },
    {
      "cell_type": "code",
      "metadata": {
        "id": "SiRmHPl8VqAd",
        "colab": {
          "base_uri": "https://localhost:8080/"
        },
        "outputId": "0873428d-4436-49e7-87da-331fe251fae7"
      },
      "source": [
        "# и убедиться что ни чего не пропустил)\n",
        "len(answers)"
      ],
      "execution_count": 362,
      "outputs": [
        {
          "output_type": "execute_result",
          "data": {
            "text/plain": [
              "27"
            ]
          },
          "metadata": {
            "tags": []
          },
          "execution_count": 362
        }
      ]
    }
  ]
}